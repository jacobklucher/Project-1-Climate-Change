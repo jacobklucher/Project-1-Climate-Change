{
 "cells": [
  {
   "cell_type": "code",
   "execution_count": 191,
   "id": "7f95660a-3d75-4c78-b1ba-d91022728863",
   "metadata": {},
   "outputs": [],
   "source": [
    "# Import Statements\n",
    "import pandas as pd\n",
    "import matplotlib.pyplot as plt\n",
    "import numpy as np\n",
    "from scipy.stats import linregress\n",
    "import scipy.stats as stats\n",
    "import hvplot.pandas"
   ]
  },
  {
   "cell_type": "markdown",
   "id": "d91cec14-47c0-4662-b529-d87ae104e2b0",
   "metadata": {
    "jp-MarkdownHeadingCollapsed": true
   },
   "source": [
    "## Setup for Sea Level Dataset"
   ]
  },
  {
   "cell_type": "code",
   "execution_count": 3,
   "id": "214f03a5-be68-4852-a4f6-1caa41f71fd4",
   "metadata": {},
   "outputs": [],
   "source": [
    "# Create dataframe from csv\n",
    "sea_level = \"Resources/sea-levels-news-updated-years.csv\"\n",
    "\n",
    "sea_level_df = pd.read_csv(sea_level)"
   ]
  },
  {
   "cell_type": "code",
   "execution_count": 4,
   "id": "9a01bc4d-6b49-45c5-a45c-86283cc48370",
   "metadata": {},
   "outputs": [
    {
     "data": {
      "text/html": [
       "<div>\n",
       "<style scoped>\n",
       "    .dataframe tbody tr th:only-of-type {\n",
       "        vertical-align: middle;\n",
       "    }\n",
       "\n",
       "    .dataframe tbody tr th {\n",
       "        vertical-align: top;\n",
       "    }\n",
       "\n",
       "    .dataframe thead th {\n",
       "        text-align: right;\n",
       "    }\n",
       "</style>\n",
       "<table border=\"1\" class=\"dataframe\">\n",
       "  <thead>\n",
       "    <tr style=\"text-align: right;\">\n",
       "      <th></th>\n",
       "      <th>country</th>\n",
       "      <th>Day</th>\n",
       "      <th>Global sea level according to Church and White (2011)</th>\n",
       "      <th>Global sea level as an average of Church and White (2011) and UHSLC data</th>\n",
       "    </tr>\n",
       "  </thead>\n",
       "  <tbody>\n",
       "    <tr>\n",
       "      <th>0</th>\n",
       "      <td>World</td>\n",
       "      <td>1880-04-15</td>\n",
       "      <td>-183.31406</td>\n",
       "      <td>-183.31406</td>\n",
       "    </tr>\n",
       "    <tr>\n",
       "      <th>1</th>\n",
       "      <td>World</td>\n",
       "      <td>1880-07-15</td>\n",
       "      <td>-183.24739</td>\n",
       "      <td>-183.24739</td>\n",
       "    </tr>\n",
       "    <tr>\n",
       "      <th>2</th>\n",
       "      <td>World</td>\n",
       "      <td>1880-10-15</td>\n",
       "      <td>-174.14740</td>\n",
       "      <td>-174.14740</td>\n",
       "    </tr>\n",
       "    <tr>\n",
       "      <th>3</th>\n",
       "      <td>World</td>\n",
       "      <td>1881-01-15</td>\n",
       "      <td>-159.68073</td>\n",
       "      <td>-159.68073</td>\n",
       "    </tr>\n",
       "    <tr>\n",
       "      <th>4</th>\n",
       "      <td>World</td>\n",
       "      <td>1881-04-15</td>\n",
       "      <td>-172.41406</td>\n",
       "      <td>-172.41406</td>\n",
       "    </tr>\n",
       "  </tbody>\n",
       "</table>\n",
       "</div>"
      ],
      "text/plain": [
       "  country         Day  Global sea level according to Church and White (2011)  \\\n",
       "0   World  1880-04-15                                         -183.31406       \n",
       "1   World  1880-07-15                                         -183.24739       \n",
       "2   World  1880-10-15                                         -174.14740       \n",
       "3   World  1881-01-15                                         -159.68073       \n",
       "4   World  1881-04-15                                         -172.41406       \n",
       "\n",
       "   Global sea level as an average of Church and White (2011) and UHSLC data  \n",
       "0                                         -183.31406                         \n",
       "1                                         -183.24739                         \n",
       "2                                         -174.14740                         \n",
       "3                                         -159.68073                         \n",
       "4                                         -172.41406                         "
      ]
     },
     "execution_count": 4,
     "metadata": {},
     "output_type": "execute_result"
    }
   ],
   "source": [
    "sea_level_df.head()"
   ]
  },
  {
   "cell_type": "code",
   "execution_count": 8,
   "id": "15fa73a7-6591-4228-b323-107d1d7e9e86",
   "metadata": {},
   "outputs": [
    {
     "name": "stdout",
     "output_type": "stream",
     "text": [
      "<class 'pandas.core.frame.DataFrame'>\n",
      "RangeIndex: 563 entries, 0 to 562\n",
      "Data columns (total 4 columns):\n",
      " #   Column                                                                    Non-Null Count  Dtype  \n",
      "---  ------                                                                    --------------  -----  \n",
      " 0   country                                                                   563 non-null    object \n",
      " 1   Day                                                                       563 non-null    object \n",
      " 2   Global sea level according to Church and White (2011)                     563 non-null    float64\n",
      " 3   Global sea level as an average of Church and White (2011) and UHSLC data  519 non-null    float64\n",
      "dtypes: float64(2), object(2)\n",
      "memory usage: 17.7+ KB\n"
     ]
    }
   ],
   "source": [
    "sea_level_df.info()"
   ]
  },
  {
   "cell_type": "code",
   "execution_count": 10,
   "id": "7666f88c-e452-483e-a27d-595917dd23eb",
   "metadata": {},
   "outputs": [
    {
     "data": {
      "text/html": [
       "<div>\n",
       "<style scoped>\n",
       "    .dataframe tbody tr th:only-of-type {\n",
       "        vertical-align: middle;\n",
       "    }\n",
       "\n",
       "    .dataframe tbody tr th {\n",
       "        vertical-align: top;\n",
       "    }\n",
       "\n",
       "    .dataframe thead th {\n",
       "        text-align: right;\n",
       "    }\n",
       "</style>\n",
       "<table border=\"1\" class=\"dataframe\">\n",
       "  <thead>\n",
       "    <tr style=\"text-align: right;\">\n",
       "      <th></th>\n",
       "      <th>Global sea level according to Church and White (2011)</th>\n",
       "      <th>Global sea level as an average of Church and White (2011) and UHSLC data</th>\n",
       "    </tr>\n",
       "  </thead>\n",
       "  <tbody>\n",
       "    <tr>\n",
       "      <th>count</th>\n",
       "      <td>563.000000</td>\n",
       "      <td>519.000000</td>\n",
       "    </tr>\n",
       "    <tr>\n",
       "      <th>mean</th>\n",
       "      <td>-82.209015</td>\n",
       "      <td>-93.374739</td>\n",
       "    </tr>\n",
       "    <tr>\n",
       "      <th>std</th>\n",
       "      <td>68.060029</td>\n",
       "      <td>58.423227</td>\n",
       "    </tr>\n",
       "    <tr>\n",
       "      <th>min</th>\n",
       "      <td>-204.380720</td>\n",
       "      <td>-204.380720</td>\n",
       "    </tr>\n",
       "    <tr>\n",
       "      <th>25%</th>\n",
       "      <td>-138.414060</td>\n",
       "      <td>-141.214065</td>\n",
       "    </tr>\n",
       "    <tr>\n",
       "      <th>50%</th>\n",
       "      <td>-87.447395</td>\n",
       "      <td>-101.480730</td>\n",
       "    </tr>\n",
       "    <tr>\n",
       "      <th>75%</th>\n",
       "      <td>-30.564063</td>\n",
       "      <td>-43.564881</td>\n",
       "    </tr>\n",
       "    <tr>\n",
       "      <th>max</th>\n",
       "      <td>68.811630</td>\n",
       "      <td>36.907307</td>\n",
       "    </tr>\n",
       "  </tbody>\n",
       "</table>\n",
       "</div>"
      ],
      "text/plain": [
       "       Global sea level according to Church and White (2011)  \\\n",
       "count                                         563.000000       \n",
       "mean                                          -82.209015       \n",
       "std                                            68.060029       \n",
       "min                                          -204.380720       \n",
       "25%                                          -138.414060       \n",
       "50%                                           -87.447395       \n",
       "75%                                           -30.564063       \n",
       "max                                            68.811630       \n",
       "\n",
       "       Global sea level as an average of Church and White (2011) and UHSLC data  \n",
       "count                                         519.000000                         \n",
       "mean                                          -93.374739                         \n",
       "std                                            58.423227                         \n",
       "min                                          -204.380720                         \n",
       "25%                                          -141.214065                         \n",
       "50%                                          -101.480730                         \n",
       "75%                                           -43.564881                         \n",
       "max                                            36.907307                         "
      ]
     },
     "execution_count": 10,
     "metadata": {},
     "output_type": "execute_result"
    }
   ],
   "source": [
    "sea_level_df.describe()"
   ]
  },
  {
   "cell_type": "code",
   "execution_count": 12,
   "id": "f2bf44a4-9090-4754-a6fa-c6b13b895c19",
   "metadata": {},
   "outputs": [],
   "source": [
    "sea_level_df.rename(columns={\"Day\": \"Time\"}, inplace=True)\n",
    "sea_level_df[\"Time\"] = pd.to_datetime(sea_level_df[\"Time\"])\n",
    "\n",
    "sea_level_df[\"Year\"] = sea_level_df[\"Time\"].dt.year\n",
    "sea_level_df[\"Month\"] = sea_level_df[\"Time\"].dt.month\n",
    "sea_level_df[\"Day\"] = sea_level_df[\"Time\"].dt.day"
   ]
  },
  {
   "cell_type": "code",
   "execution_count": 14,
   "id": "12bf4cc9-883c-4dee-a8a2-146bf8374f6c",
   "metadata": {},
   "outputs": [
    {
     "data": {
      "text/html": [
       "<div>\n",
       "<style scoped>\n",
       "    .dataframe tbody tr th:only-of-type {\n",
       "        vertical-align: middle;\n",
       "    }\n",
       "\n",
       "    .dataframe tbody tr th {\n",
       "        vertical-align: top;\n",
       "    }\n",
       "\n",
       "    .dataframe thead th {\n",
       "        text-align: right;\n",
       "    }\n",
       "</style>\n",
       "<table border=\"1\" class=\"dataframe\">\n",
       "  <thead>\n",
       "    <tr style=\"text-align: right;\">\n",
       "      <th></th>\n",
       "      <th>country</th>\n",
       "      <th>Time</th>\n",
       "      <th>Global sea level according to Church and White (2011)</th>\n",
       "      <th>Global sea level as an average of Church and White (2011) and UHSLC data</th>\n",
       "      <th>Year</th>\n",
       "      <th>Month</th>\n",
       "      <th>Day</th>\n",
       "    </tr>\n",
       "  </thead>\n",
       "  <tbody>\n",
       "  </tbody>\n",
       "</table>\n",
       "</div>"
      ],
      "text/plain": [
       "Empty DataFrame\n",
       "Columns: [country, Time, Global sea level according to Church and White (2011), Global sea level as an average of Church and White (2011) and UHSLC data, Year, Month, Day]\n",
       "Index: []"
      ]
     },
     "execution_count": 14,
     "metadata": {},
     "output_type": "execute_result"
    }
   ],
   "source": [
    "duplicate_rows = sea_level_df[sea_level_df.duplicated()]\n",
    "duplicate_rows"
   ]
  },
  {
   "cell_type": "code",
   "execution_count": 16,
   "id": "03a8d570-7a8a-4135-892d-703f0f94f208",
   "metadata": {},
   "outputs": [
    {
     "name": "stdout",
     "output_type": "stream",
     "text": [
      "country                                                                      0\n",
      "Time                                                                         0\n",
      "Global sea level according to Church and White (2011)                        0\n",
      "Global sea level as an average of Church and White (2011) and UHSLC data    44\n",
      "Year                                                                         0\n",
      "Month                                                                        0\n",
      "Day                                                                          0\n",
      "dtype: int64\n"
     ]
    }
   ],
   "source": [
    "print(sea_level_df.isnull().sum())"
   ]
  },
  {
   "cell_type": "code",
   "execution_count": 18,
   "id": "0158ee32-84dd-40df-a6bf-c2d517ee76aa",
   "metadata": {},
   "outputs": [
    {
     "data": {
      "text/html": [
       "<div>\n",
       "<style scoped>\n",
       "    .dataframe tbody tr th:only-of-type {\n",
       "        vertical-align: middle;\n",
       "    }\n",
       "\n",
       "    .dataframe tbody tr th {\n",
       "        vertical-align: top;\n",
       "    }\n",
       "\n",
       "    .dataframe thead th {\n",
       "        text-align: right;\n",
       "    }\n",
       "</style>\n",
       "<table border=\"1\" class=\"dataframe\">\n",
       "  <thead>\n",
       "    <tr style=\"text-align: right;\">\n",
       "      <th></th>\n",
       "      <th>country</th>\n",
       "      <th>Time</th>\n",
       "      <th>Global Sea Level Change</th>\n",
       "      <th>Year</th>\n",
       "      <th>Month</th>\n",
       "      <th>Day</th>\n",
       "    </tr>\n",
       "  </thead>\n",
       "  <tbody>\n",
       "    <tr>\n",
       "      <th>0</th>\n",
       "      <td>World</td>\n",
       "      <td>1880-04-15</td>\n",
       "      <td>-183.31406</td>\n",
       "      <td>1880</td>\n",
       "      <td>4</td>\n",
       "      <td>15</td>\n",
       "    </tr>\n",
       "    <tr>\n",
       "      <th>1</th>\n",
       "      <td>World</td>\n",
       "      <td>1880-07-15</td>\n",
       "      <td>-183.24739</td>\n",
       "      <td>1880</td>\n",
       "      <td>7</td>\n",
       "      <td>15</td>\n",
       "    </tr>\n",
       "    <tr>\n",
       "      <th>2</th>\n",
       "      <td>World</td>\n",
       "      <td>1880-10-15</td>\n",
       "      <td>-174.14740</td>\n",
       "      <td>1880</td>\n",
       "      <td>10</td>\n",
       "      <td>15</td>\n",
       "    </tr>\n",
       "    <tr>\n",
       "      <th>3</th>\n",
       "      <td>World</td>\n",
       "      <td>1881-01-15</td>\n",
       "      <td>-159.68073</td>\n",
       "      <td>1881</td>\n",
       "      <td>1</td>\n",
       "      <td>15</td>\n",
       "    </tr>\n",
       "    <tr>\n",
       "      <th>4</th>\n",
       "      <td>World</td>\n",
       "      <td>1881-04-15</td>\n",
       "      <td>-172.41406</td>\n",
       "      <td>1881</td>\n",
       "      <td>4</td>\n",
       "      <td>15</td>\n",
       "    </tr>\n",
       "  </tbody>\n",
       "</table>\n",
       "</div>"
      ],
      "text/plain": [
       "  country       Time  Global Sea Level Change  Year  Month  Day\n",
       "0   World 1880-04-15               -183.31406  1880      4   15\n",
       "1   World 1880-07-15               -183.24739  1880      7   15\n",
       "2   World 1880-10-15               -174.14740  1880     10   15\n",
       "3   World 1881-01-15               -159.68073  1881      1   15\n",
       "4   World 1881-04-15               -172.41406  1881      4   15"
      ]
     },
     "execution_count": 18,
     "metadata": {},
     "output_type": "execute_result"
    }
   ],
   "source": [
    "# Rename columns and drop extraneous column\n",
    "sea_level_df.rename(columns={'Global sea level according to Church and White (2011)': 'Global Sea Level Change', 'No_Smoothing': 'Global Temperature Change'}, inplace=True)\n",
    "sea_level_df.drop(columns=[\"Global sea level as an average of Church and White (2011) and UHSLC data\"], inplace=True)\n",
    "\n",
    "# Check first 5 rows in new df\n",
    "sea_level_df.head()"
   ]
  },
  {
   "cell_type": "markdown",
   "id": "107d2c46-d27a-419b-885b-c6c258f8e5e2",
   "metadata": {
    "jp-MarkdownHeadingCollapsed": true
   },
   "source": [
    "## Setup for Global Temperature Dataset"
   ]
  },
  {
   "cell_type": "code",
   "execution_count": 21,
   "id": "882137dd-2e63-43c3-b784-98f681f44ff9",
   "metadata": {},
   "outputs": [],
   "source": [
    "# Create dataframe from csv\n",
    "global_temp = \"Resources/Global_annual_mean_temp.csv\"\n",
    "\n",
    "global_temp_df = pd.read_csv(global_temp)"
   ]
  },
  {
   "cell_type": "code",
   "execution_count": 23,
   "id": "443e39e5-8459-4c58-b603-5a3feefae278",
   "metadata": {},
   "outputs": [
    {
     "data": {
      "text/html": [
       "<div>\n",
       "<style scoped>\n",
       "    .dataframe tbody tr th:only-of-type {\n",
       "        vertical-align: middle;\n",
       "    }\n",
       "\n",
       "    .dataframe tbody tr th {\n",
       "        vertical-align: top;\n",
       "    }\n",
       "\n",
       "    .dataframe thead th {\n",
       "        text-align: right;\n",
       "    }\n",
       "</style>\n",
       "<table border=\"1\" class=\"dataframe\">\n",
       "  <thead>\n",
       "    <tr style=\"text-align: right;\">\n",
       "      <th></th>\n",
       "      <th>Year</th>\n",
       "      <th>No_Smoothing</th>\n",
       "      <th>Lowess(5)</th>\n",
       "    </tr>\n",
       "  </thead>\n",
       "  <tbody>\n",
       "    <tr>\n",
       "      <th>0</th>\n",
       "      <td>1880</td>\n",
       "      <td>-0.17</td>\n",
       "      <td>-0.10</td>\n",
       "    </tr>\n",
       "    <tr>\n",
       "      <th>1</th>\n",
       "      <td>1881</td>\n",
       "      <td>-0.09</td>\n",
       "      <td>-0.13</td>\n",
       "    </tr>\n",
       "    <tr>\n",
       "      <th>2</th>\n",
       "      <td>1882</td>\n",
       "      <td>-0.11</td>\n",
       "      <td>-0.17</td>\n",
       "    </tr>\n",
       "    <tr>\n",
       "      <th>3</th>\n",
       "      <td>1883</td>\n",
       "      <td>-0.18</td>\n",
       "      <td>-0.20</td>\n",
       "    </tr>\n",
       "    <tr>\n",
       "      <th>4</th>\n",
       "      <td>1884</td>\n",
       "      <td>-0.28</td>\n",
       "      <td>-0.24</td>\n",
       "    </tr>\n",
       "  </tbody>\n",
       "</table>\n",
       "</div>"
      ],
      "text/plain": [
       "   Year  No_Smoothing  Lowess(5)\n",
       "0  1880         -0.17      -0.10\n",
       "1  1881         -0.09      -0.13\n",
       "2  1882         -0.11      -0.17\n",
       "3  1883         -0.18      -0.20\n",
       "4  1884         -0.28      -0.24"
      ]
     },
     "execution_count": 23,
     "metadata": {},
     "output_type": "execute_result"
    }
   ],
   "source": [
    "global_temp_df.head()"
   ]
  },
  {
   "cell_type": "code",
   "execution_count": 25,
   "id": "63b0bada-918a-48f6-8a3e-61c545c697b9",
   "metadata": {},
   "outputs": [
    {
     "name": "stdout",
     "output_type": "stream",
     "text": [
      "<class 'pandas.core.frame.DataFrame'>\n",
      "RangeIndex: 144 entries, 0 to 143\n",
      "Data columns (total 3 columns):\n",
      " #   Column        Non-Null Count  Dtype  \n",
      "---  ------        --------------  -----  \n",
      " 0   Year          144 non-null    int64  \n",
      " 1   No_Smoothing  144 non-null    float64\n",
      " 2   Lowess(5)     144 non-null    float64\n",
      "dtypes: float64(2), int64(1)\n",
      "memory usage: 3.5 KB\n"
     ]
    }
   ],
   "source": [
    "global_temp_df.info()"
   ]
  },
  {
   "cell_type": "code",
   "execution_count": 27,
   "id": "a79d51fa-c386-4c71-bece-e1f53070dbb5",
   "metadata": {},
   "outputs": [
    {
     "data": {
      "text/html": [
       "<div>\n",
       "<style scoped>\n",
       "    .dataframe tbody tr th:only-of-type {\n",
       "        vertical-align: middle;\n",
       "    }\n",
       "\n",
       "    .dataframe tbody tr th {\n",
       "        vertical-align: top;\n",
       "    }\n",
       "\n",
       "    .dataframe thead th {\n",
       "        text-align: right;\n",
       "    }\n",
       "</style>\n",
       "<table border=\"1\" class=\"dataframe\">\n",
       "  <thead>\n",
       "    <tr style=\"text-align: right;\">\n",
       "      <th></th>\n",
       "      <th>Year</th>\n",
       "      <th>No_Smoothing</th>\n",
       "      <th>Lowess(5)</th>\n",
       "    </tr>\n",
       "  </thead>\n",
       "  <tbody>\n",
       "    <tr>\n",
       "      <th>count</th>\n",
       "      <td>144.000000</td>\n",
       "      <td>144.000000</td>\n",
       "      <td>144.000000</td>\n",
       "    </tr>\n",
       "    <tr>\n",
       "      <th>mean</th>\n",
       "      <td>1951.500000</td>\n",
       "      <td>0.067500</td>\n",
       "      <td>0.066528</td>\n",
       "    </tr>\n",
       "    <tr>\n",
       "      <th>std</th>\n",
       "      <td>41.713307</td>\n",
       "      <td>0.378167</td>\n",
       "      <td>0.364276</td>\n",
       "    </tr>\n",
       "    <tr>\n",
       "      <th>min</th>\n",
       "      <td>1880.000000</td>\n",
       "      <td>-0.480000</td>\n",
       "      <td>-0.410000</td>\n",
       "    </tr>\n",
       "    <tr>\n",
       "      <th>25%</th>\n",
       "      <td>1915.750000</td>\n",
       "      <td>-0.200000</td>\n",
       "      <td>-0.222500</td>\n",
       "    </tr>\n",
       "    <tr>\n",
       "      <th>50%</th>\n",
       "      <td>1951.500000</td>\n",
       "      <td>-0.045000</td>\n",
       "      <td>-0.035000</td>\n",
       "    </tr>\n",
       "    <tr>\n",
       "      <th>75%</th>\n",
       "      <td>1987.250000</td>\n",
       "      <td>0.280000</td>\n",
       "      <td>0.280000</td>\n",
       "    </tr>\n",
       "    <tr>\n",
       "      <th>max</th>\n",
       "      <td>2023.000000</td>\n",
       "      <td>1.170000</td>\n",
       "      <td>1.010000</td>\n",
       "    </tr>\n",
       "  </tbody>\n",
       "</table>\n",
       "</div>"
      ],
      "text/plain": [
       "              Year  No_Smoothing   Lowess(5)\n",
       "count   144.000000    144.000000  144.000000\n",
       "mean   1951.500000      0.067500    0.066528\n",
       "std      41.713307      0.378167    0.364276\n",
       "min    1880.000000     -0.480000   -0.410000\n",
       "25%    1915.750000     -0.200000   -0.222500\n",
       "50%    1951.500000     -0.045000   -0.035000\n",
       "75%    1987.250000      0.280000    0.280000\n",
       "max    2023.000000      1.170000    1.010000"
      ]
     },
     "execution_count": 27,
     "metadata": {},
     "output_type": "execute_result"
    }
   ],
   "source": [
    "global_temp_df.describe()"
   ]
  },
  {
   "cell_type": "code",
   "execution_count": 29,
   "id": "6ad105f9-8e33-466b-b949-4ab7968f3944",
   "metadata": {},
   "outputs": [
    {
     "data": {
      "text/html": [
       "<div>\n",
       "<style scoped>\n",
       "    .dataframe tbody tr th:only-of-type {\n",
       "        vertical-align: middle;\n",
       "    }\n",
       "\n",
       "    .dataframe tbody tr th {\n",
       "        vertical-align: top;\n",
       "    }\n",
       "\n",
       "    .dataframe thead th {\n",
       "        text-align: right;\n",
       "    }\n",
       "</style>\n",
       "<table border=\"1\" class=\"dataframe\">\n",
       "  <thead>\n",
       "    <tr style=\"text-align: right;\">\n",
       "      <th></th>\n",
       "      <th>Year</th>\n",
       "      <th>Global Temperature Change</th>\n",
       "      <th>Lowess(5)</th>\n",
       "    </tr>\n",
       "  </thead>\n",
       "  <tbody>\n",
       "    <tr>\n",
       "      <th>0</th>\n",
       "      <td>1880</td>\n",
       "      <td>-0.17</td>\n",
       "      <td>-0.10</td>\n",
       "    </tr>\n",
       "    <tr>\n",
       "      <th>1</th>\n",
       "      <td>1881</td>\n",
       "      <td>-0.09</td>\n",
       "      <td>-0.13</td>\n",
       "    </tr>\n",
       "    <tr>\n",
       "      <th>2</th>\n",
       "      <td>1882</td>\n",
       "      <td>-0.11</td>\n",
       "      <td>-0.17</td>\n",
       "    </tr>\n",
       "    <tr>\n",
       "      <th>3</th>\n",
       "      <td>1883</td>\n",
       "      <td>-0.18</td>\n",
       "      <td>-0.20</td>\n",
       "    </tr>\n",
       "    <tr>\n",
       "      <th>4</th>\n",
       "      <td>1884</td>\n",
       "      <td>-0.28</td>\n",
       "      <td>-0.24</td>\n",
       "    </tr>\n",
       "  </tbody>\n",
       "</table>\n",
       "</div>"
      ],
      "text/plain": [
       "   Year  Global Temperature Change  Lowess(5)\n",
       "0  1880                      -0.17      -0.10\n",
       "1  1881                      -0.09      -0.13\n",
       "2  1882                      -0.11      -0.17\n",
       "3  1883                      -0.18      -0.20\n",
       "4  1884                      -0.28      -0.24"
      ]
     },
     "execution_count": 29,
     "metadata": {},
     "output_type": "execute_result"
    }
   ],
   "source": [
    "global_temp_df.rename(columns={\"No_Smoothing\": \"Global Temperature Change\"}, inplace=True)\n",
    "global_temp_df[\"Year\"] = pd.to_datetime(global_temp_df[\"Year\"], format='%Y')\n",
    "\n",
    "global_temp_df[\"Year\"] = global_temp_df[\"Year\"].dt.year\n",
    "global_temp_df.head()"
   ]
  },
  {
   "cell_type": "code",
   "execution_count": 31,
   "id": "92cd3f27-f644-49f4-8fa1-e3653b79310a",
   "metadata": {},
   "outputs": [
    {
     "name": "stdout",
     "output_type": "stream",
     "text": [
      "Year                         0\n",
      "Global Temperature Change    0\n",
      "Lowess(5)                    0\n",
      "dtype: int64\n"
     ]
    }
   ],
   "source": [
    "print(global_temp_df.isnull().sum())"
   ]
  },
  {
   "cell_type": "code",
   "execution_count": 33,
   "id": "fedc5638-2fb6-4a84-9a40-57e718cccba0",
   "metadata": {},
   "outputs": [
    {
     "data": {
      "text/html": [
       "<div>\n",
       "<style scoped>\n",
       "    .dataframe tbody tr th:only-of-type {\n",
       "        vertical-align: middle;\n",
       "    }\n",
       "\n",
       "    .dataframe tbody tr th {\n",
       "        vertical-align: top;\n",
       "    }\n",
       "\n",
       "    .dataframe thead th {\n",
       "        text-align: right;\n",
       "    }\n",
       "</style>\n",
       "<table border=\"1\" class=\"dataframe\">\n",
       "  <thead>\n",
       "    <tr style=\"text-align: right;\">\n",
       "      <th></th>\n",
       "      <th>Year</th>\n",
       "      <th>Global Temperature Change</th>\n",
       "    </tr>\n",
       "  </thead>\n",
       "  <tbody>\n",
       "    <tr>\n",
       "      <th>0</th>\n",
       "      <td>1880</td>\n",
       "      <td>-0.17</td>\n",
       "    </tr>\n",
       "    <tr>\n",
       "      <th>1</th>\n",
       "      <td>1881</td>\n",
       "      <td>-0.09</td>\n",
       "    </tr>\n",
       "    <tr>\n",
       "      <th>2</th>\n",
       "      <td>1882</td>\n",
       "      <td>-0.11</td>\n",
       "    </tr>\n",
       "    <tr>\n",
       "      <th>3</th>\n",
       "      <td>1883</td>\n",
       "      <td>-0.18</td>\n",
       "    </tr>\n",
       "    <tr>\n",
       "      <th>4</th>\n",
       "      <td>1884</td>\n",
       "      <td>-0.28</td>\n",
       "    </tr>\n",
       "  </tbody>\n",
       "</table>\n",
       "</div>"
      ],
      "text/plain": [
       "   Year  Global Temperature Change\n",
       "0  1880                      -0.17\n",
       "1  1881                      -0.09\n",
       "2  1882                      -0.11\n",
       "3  1883                      -0.18\n",
       "4  1884                      -0.28"
      ]
     },
     "execution_count": 33,
     "metadata": {},
     "output_type": "execute_result"
    }
   ],
   "source": [
    "# Drop extraneous column\n",
    "global_temp_df.drop(columns=[\"Lowess(5)\"], inplace=True)\n",
    "\n",
    "# Check first 5 rows in new df\n",
    "global_temp_df.head()"
   ]
  },
  {
   "cell_type": "markdown",
   "id": "f919b7b9-c3b3-449f-bb9e-c6adfcb894d2",
   "metadata": {},
   "source": [
    "## Setup for Global CO2 Dataset"
   ]
  },
  {
   "cell_type": "code",
   "execution_count": 69,
   "id": "350b2d6a-92e1-4140-8a44-27026669d9dd",
   "metadata": {},
   "outputs": [],
   "source": [
    "# Create dataframe from csv\n",
    "co2_level = \"Resources/annual-co-emissions-by-region.csv\"\n",
    "\n",
    "co2_level_df = pd.read_csv(co2_level)"
   ]
  },
  {
   "cell_type": "code",
   "execution_count": 71,
   "id": "2ea77831-ddc3-4320-9292-f2553c2eb121",
   "metadata": {},
   "outputs": [
    {
     "data": {
      "text/html": [
       "<div>\n",
       "<style scoped>\n",
       "    .dataframe tbody tr th:only-of-type {\n",
       "        vertical-align: middle;\n",
       "    }\n",
       "\n",
       "    .dataframe tbody tr th {\n",
       "        vertical-align: top;\n",
       "    }\n",
       "\n",
       "    .dataframe thead th {\n",
       "        text-align: right;\n",
       "    }\n",
       "</style>\n",
       "<table border=\"1\" class=\"dataframe\">\n",
       "  <thead>\n",
       "    <tr style=\"text-align: right;\">\n",
       "      <th></th>\n",
       "      <th>Entity</th>\n",
       "      <th>Code</th>\n",
       "      <th>Year</th>\n",
       "      <th>Annual CO₂ emissions</th>\n",
       "    </tr>\n",
       "  </thead>\n",
       "  <tbody>\n",
       "    <tr>\n",
       "      <th>0</th>\n",
       "      <td>Afghanistan</td>\n",
       "      <td>AFG</td>\n",
       "      <td>1949</td>\n",
       "      <td>14656.0</td>\n",
       "    </tr>\n",
       "    <tr>\n",
       "      <th>1</th>\n",
       "      <td>Afghanistan</td>\n",
       "      <td>AFG</td>\n",
       "      <td>1950</td>\n",
       "      <td>84272.0</td>\n",
       "    </tr>\n",
       "    <tr>\n",
       "      <th>2</th>\n",
       "      <td>Afghanistan</td>\n",
       "      <td>AFG</td>\n",
       "      <td>1951</td>\n",
       "      <td>91600.0</td>\n",
       "    </tr>\n",
       "    <tr>\n",
       "      <th>3</th>\n",
       "      <td>Afghanistan</td>\n",
       "      <td>AFG</td>\n",
       "      <td>1952</td>\n",
       "      <td>91600.0</td>\n",
       "    </tr>\n",
       "    <tr>\n",
       "      <th>4</th>\n",
       "      <td>Afghanistan</td>\n",
       "      <td>AFG</td>\n",
       "      <td>1953</td>\n",
       "      <td>106256.0</td>\n",
       "    </tr>\n",
       "  </tbody>\n",
       "</table>\n",
       "</div>"
      ],
      "text/plain": [
       "        Entity Code  Year  Annual CO₂ emissions\n",
       "0  Afghanistan  AFG  1949               14656.0\n",
       "1  Afghanistan  AFG  1950               84272.0\n",
       "2  Afghanistan  AFG  1951               91600.0\n",
       "3  Afghanistan  AFG  1952               91600.0\n",
       "4  Afghanistan  AFG  1953              106256.0"
      ]
     },
     "execution_count": 71,
     "metadata": {},
     "output_type": "execute_result"
    }
   ],
   "source": [
    "co2_level_df.head()"
   ]
  },
  {
   "cell_type": "code",
   "execution_count": 73,
   "id": "1c9b8daa-4987-4091-a41b-16260400800e",
   "metadata": {},
   "outputs": [
    {
     "name": "stdout",
     "output_type": "stream",
     "text": [
      "<class 'pandas.core.frame.DataFrame'>\n",
      "RangeIndex: 29137 entries, 0 to 29136\n",
      "Data columns (total 4 columns):\n",
      " #   Column                Non-Null Count  Dtype  \n",
      "---  ------                --------------  -----  \n",
      " 0   Entity                29137 non-null  object \n",
      " 1   Code                  23497 non-null  object \n",
      " 2   Year                  29137 non-null  int64  \n",
      " 3   Annual CO₂ emissions  29137 non-null  float64\n",
      "dtypes: float64(1), int64(1), object(2)\n",
      "memory usage: 910.7+ KB\n"
     ]
    }
   ],
   "source": [
    "co2_level_df.info()"
   ]
  },
  {
   "cell_type": "code",
   "execution_count": 75,
   "id": "467023e1-ded5-4cbe-b8eb-f07951cd508b",
   "metadata": {},
   "outputs": [
    {
     "data": {
      "text/html": [
       "<div>\n",
       "<style scoped>\n",
       "    .dataframe tbody tr th:only-of-type {\n",
       "        vertical-align: middle;\n",
       "    }\n",
       "\n",
       "    .dataframe tbody tr th {\n",
       "        vertical-align: top;\n",
       "    }\n",
       "\n",
       "    .dataframe thead th {\n",
       "        text-align: right;\n",
       "    }\n",
       "</style>\n",
       "<table border=\"1\" class=\"dataframe\">\n",
       "  <thead>\n",
       "    <tr style=\"text-align: right;\">\n",
       "      <th></th>\n",
       "      <th>Year</th>\n",
       "      <th>Annual CO₂ emissions</th>\n",
       "    </tr>\n",
       "  </thead>\n",
       "  <tbody>\n",
       "    <tr>\n",
       "      <th>count</th>\n",
       "      <td>29137.000000</td>\n",
       "      <td>2.913700e+04</td>\n",
       "    </tr>\n",
       "    <tr>\n",
       "      <th>mean</th>\n",
       "      <td>1947.718022</td>\n",
       "      <td>4.154861e+08</td>\n",
       "    </tr>\n",
       "    <tr>\n",
       "      <th>std</th>\n",
       "      <td>58.985133</td>\n",
       "      <td>1.944680e+09</td>\n",
       "    </tr>\n",
       "    <tr>\n",
       "      <th>min</th>\n",
       "      <td>1750.000000</td>\n",
       "      <td>0.000000e+00</td>\n",
       "    </tr>\n",
       "    <tr>\n",
       "      <th>25%</th>\n",
       "      <td>1912.000000</td>\n",
       "      <td>3.737280e+05</td>\n",
       "    </tr>\n",
       "    <tr>\n",
       "      <th>50%</th>\n",
       "      <td>1962.000000</td>\n",
       "      <td>4.990392e+06</td>\n",
       "    </tr>\n",
       "    <tr>\n",
       "      <th>75%</th>\n",
       "      <td>1994.000000</td>\n",
       "      <td>5.327268e+07</td>\n",
       "    </tr>\n",
       "    <tr>\n",
       "      <th>max</th>\n",
       "      <td>2023.000000</td>\n",
       "      <td>3.779157e+10</td>\n",
       "    </tr>\n",
       "  </tbody>\n",
       "</table>\n",
       "</div>"
      ],
      "text/plain": [
       "               Year  Annual CO₂ emissions\n",
       "count  29137.000000          2.913700e+04\n",
       "mean    1947.718022          4.154861e+08\n",
       "std       58.985133          1.944680e+09\n",
       "min     1750.000000          0.000000e+00\n",
       "25%     1912.000000          3.737280e+05\n",
       "50%     1962.000000          4.990392e+06\n",
       "75%     1994.000000          5.327268e+07\n",
       "max     2023.000000          3.779157e+10"
      ]
     },
     "execution_count": 75,
     "metadata": {},
     "output_type": "execute_result"
    }
   ],
   "source": [
    "co2_level_df.describe()"
   ]
  },
  {
   "cell_type": "code",
   "execution_count": 77,
   "id": "3be62baa-c6d5-4024-8cae-7ea2d70c8531",
   "metadata": {},
   "outputs": [
    {
     "data": {
      "text/html": [
       "<div>\n",
       "<style scoped>\n",
       "    .dataframe tbody tr th:only-of-type {\n",
       "        vertical-align: middle;\n",
       "    }\n",
       "\n",
       "    .dataframe tbody tr th {\n",
       "        vertical-align: top;\n",
       "    }\n",
       "\n",
       "    .dataframe thead th {\n",
       "        text-align: right;\n",
       "    }\n",
       "</style>\n",
       "<table border=\"1\" class=\"dataframe\">\n",
       "  <thead>\n",
       "    <tr style=\"text-align: right;\">\n",
       "      <th></th>\n",
       "      <th>Entity</th>\n",
       "      <th>Code</th>\n",
       "      <th>Year</th>\n",
       "      <th>Annual CO₂ emissions</th>\n",
       "    </tr>\n",
       "  </thead>\n",
       "  <tbody>\n",
       "  </tbody>\n",
       "</table>\n",
       "</div>"
      ],
      "text/plain": [
       "Empty DataFrame\n",
       "Columns: [Entity, Code, Year, Annual CO₂ emissions]\n",
       "Index: []"
      ]
     },
     "execution_count": 77,
     "metadata": {},
     "output_type": "execute_result"
    }
   ],
   "source": [
    "duplicate_rows = co2_level_df[co2_level_df.duplicated()]\n",
    "duplicate_rows"
   ]
  },
  {
   "cell_type": "code",
   "execution_count": 79,
   "id": "594f01ea-1a1d-40ed-95e3-786eea87fcc9",
   "metadata": {},
   "outputs": [
    {
     "name": "stdout",
     "output_type": "stream",
     "text": [
      "Entity                     0\n",
      "Code                    5640\n",
      "Year                       0\n",
      "Annual CO₂ emissions       0\n",
      "dtype: int64\n"
     ]
    }
   ],
   "source": [
    "print(co2_level_df.isnull().sum())"
   ]
  },
  {
   "cell_type": "code",
   "execution_count": 81,
   "id": "d63681e7-d3c1-423c-81a4-6fc3d6772542",
   "metadata": {},
   "outputs": [
    {
     "data": {
      "text/html": [
       "<div>\n",
       "<style scoped>\n",
       "    .dataframe tbody tr th:only-of-type {\n",
       "        vertical-align: middle;\n",
       "    }\n",
       "\n",
       "    .dataframe tbody tr th {\n",
       "        vertical-align: top;\n",
       "    }\n",
       "\n",
       "    .dataframe thead th {\n",
       "        text-align: right;\n",
       "    }\n",
       "</style>\n",
       "<table border=\"1\" class=\"dataframe\">\n",
       "  <thead>\n",
       "    <tr style=\"text-align: right;\">\n",
       "      <th></th>\n",
       "      <th>Entity</th>\n",
       "      <th>Code</th>\n",
       "      <th>Year</th>\n",
       "      <th>Annual CO₂ Emissions</th>\n",
       "    </tr>\n",
       "  </thead>\n",
       "  <tbody>\n",
       "    <tr>\n",
       "      <th>0</th>\n",
       "      <td>Afghanistan</td>\n",
       "      <td>AFG</td>\n",
       "      <td>1949</td>\n",
       "      <td>14656.0</td>\n",
       "    </tr>\n",
       "    <tr>\n",
       "      <th>1</th>\n",
       "      <td>Afghanistan</td>\n",
       "      <td>AFG</td>\n",
       "      <td>1950</td>\n",
       "      <td>84272.0</td>\n",
       "    </tr>\n",
       "    <tr>\n",
       "      <th>2</th>\n",
       "      <td>Afghanistan</td>\n",
       "      <td>AFG</td>\n",
       "      <td>1951</td>\n",
       "      <td>91600.0</td>\n",
       "    </tr>\n",
       "    <tr>\n",
       "      <th>3</th>\n",
       "      <td>Afghanistan</td>\n",
       "      <td>AFG</td>\n",
       "      <td>1952</td>\n",
       "      <td>91600.0</td>\n",
       "    </tr>\n",
       "    <tr>\n",
       "      <th>4</th>\n",
       "      <td>Afghanistan</td>\n",
       "      <td>AFG</td>\n",
       "      <td>1953</td>\n",
       "      <td>106256.0</td>\n",
       "    </tr>\n",
       "  </tbody>\n",
       "</table>\n",
       "</div>"
      ],
      "text/plain": [
       "        Entity Code  Year  Annual CO₂ Emissions\n",
       "0  Afghanistan  AFG  1949               14656.0\n",
       "1  Afghanistan  AFG  1950               84272.0\n",
       "2  Afghanistan  AFG  1951               91600.0\n",
       "3  Afghanistan  AFG  1952               91600.0\n",
       "4  Afghanistan  AFG  1953              106256.0"
      ]
     },
     "execution_count": 81,
     "metadata": {},
     "output_type": "execute_result"
    }
   ],
   "source": [
    "co2_level_df.rename(columns={\"Annual CO₂ emissions\": \"Annual CO₂ Emissions\"}, inplace=True)\n",
    "co2_level_df.head()"
   ]
  },
  {
   "cell_type": "code",
   "execution_count": 83,
   "id": "c3a0ebb1-ce83-4475-9ac7-cc9767886cff",
   "metadata": {},
   "outputs": [
    {
     "data": {
      "text/html": [
       "<div>\n",
       "<style scoped>\n",
       "    .dataframe tbody tr th:only-of-type {\n",
       "        vertical-align: middle;\n",
       "    }\n",
       "\n",
       "    .dataframe tbody tr th {\n",
       "        vertical-align: top;\n",
       "    }\n",
       "\n",
       "    .dataframe thead th {\n",
       "        text-align: right;\n",
       "    }\n",
       "</style>\n",
       "<table border=\"1\" class=\"dataframe\">\n",
       "  <thead>\n",
       "    <tr style=\"text-align: right;\">\n",
       "      <th></th>\n",
       "      <th>Entity</th>\n",
       "      <th>Code</th>\n",
       "      <th>Year</th>\n",
       "      <th>Annual CO₂ Emissions</th>\n",
       "    </tr>\n",
       "  </thead>\n",
       "  <tbody>\n",
       "    <tr>\n",
       "      <th>75</th>\n",
       "      <td>Africa</td>\n",
       "      <td>NaN</td>\n",
       "      <td>1884</td>\n",
       "      <td>2.198400e+04</td>\n",
       "    </tr>\n",
       "    <tr>\n",
       "      <th>76</th>\n",
       "      <td>Africa</td>\n",
       "      <td>NaN</td>\n",
       "      <td>1885</td>\n",
       "      <td>3.664000e+04</td>\n",
       "    </tr>\n",
       "    <tr>\n",
       "      <th>77</th>\n",
       "      <td>Africa</td>\n",
       "      <td>NaN</td>\n",
       "      <td>1886</td>\n",
       "      <td>4.763200e+04</td>\n",
       "    </tr>\n",
       "    <tr>\n",
       "      <th>78</th>\n",
       "      <td>Africa</td>\n",
       "      <td>NaN</td>\n",
       "      <td>1887</td>\n",
       "      <td>4.763200e+04</td>\n",
       "    </tr>\n",
       "    <tr>\n",
       "      <th>79</th>\n",
       "      <td>Africa</td>\n",
       "      <td>NaN</td>\n",
       "      <td>1888</td>\n",
       "      <td>8.060800e+04</td>\n",
       "    </tr>\n",
       "    <tr>\n",
       "      <th>...</th>\n",
       "      <td>...</td>\n",
       "      <td>...</td>\n",
       "      <td>...</td>\n",
       "      <td>...</td>\n",
       "    </tr>\n",
       "    <tr>\n",
       "      <th>27867</th>\n",
       "      <td>Upper-middle-income countries</td>\n",
       "      <td>NaN</td>\n",
       "      <td>2019</td>\n",
       "      <td>1.635260e+10</td>\n",
       "    </tr>\n",
       "    <tr>\n",
       "      <th>27868</th>\n",
       "      <td>Upper-middle-income countries</td>\n",
       "      <td>NaN</td>\n",
       "      <td>2020</td>\n",
       "      <td>1.620203e+10</td>\n",
       "    </tr>\n",
       "    <tr>\n",
       "      <th>27869</th>\n",
       "      <td>Upper-middle-income countries</td>\n",
       "      <td>NaN</td>\n",
       "      <td>2021</td>\n",
       "      <td>1.698064e+10</td>\n",
       "    </tr>\n",
       "    <tr>\n",
       "      <th>27870</th>\n",
       "      <td>Upper-middle-income countries</td>\n",
       "      <td>NaN</td>\n",
       "      <td>2022</td>\n",
       "      <td>1.698954e+10</td>\n",
       "    </tr>\n",
       "    <tr>\n",
       "      <th>27871</th>\n",
       "      <td>Upper-middle-income countries</td>\n",
       "      <td>NaN</td>\n",
       "      <td>2023</td>\n",
       "      <td>1.758107e+10</td>\n",
       "    </tr>\n",
       "  </tbody>\n",
       "</table>\n",
       "<p>5640 rows × 4 columns</p>\n",
       "</div>"
      ],
      "text/plain": [
       "                              Entity Code  Year  Annual CO₂ Emissions\n",
       "75                            Africa  NaN  1884          2.198400e+04\n",
       "76                            Africa  NaN  1885          3.664000e+04\n",
       "77                            Africa  NaN  1886          4.763200e+04\n",
       "78                            Africa  NaN  1887          4.763200e+04\n",
       "79                            Africa  NaN  1888          8.060800e+04\n",
       "...                              ...  ...   ...                   ...\n",
       "27867  Upper-middle-income countries  NaN  2019          1.635260e+10\n",
       "27868  Upper-middle-income countries  NaN  2020          1.620203e+10\n",
       "27869  Upper-middle-income countries  NaN  2021          1.698064e+10\n",
       "27870  Upper-middle-income countries  NaN  2022          1.698954e+10\n",
       "27871  Upper-middle-income countries  NaN  2023          1.758107e+10\n",
       "\n",
       "[5640 rows x 4 columns]"
      ]
     },
     "execution_count": 83,
     "metadata": {},
     "output_type": "execute_result"
    }
   ],
   "source": [
    "null_rows = co2_level_df[co2_level_df.isnull().any(axis=1)]\n",
    "null_rows"
   ]
  },
  {
   "cell_type": "code",
   "execution_count": 85,
   "id": "d8145b0b-0b26-4c66-9b41-f0203c7da88a",
   "metadata": {},
   "outputs": [
    {
     "data": {
      "text/html": [
       "<div>\n",
       "<style scoped>\n",
       "    .dataframe tbody tr th:only-of-type {\n",
       "        vertical-align: middle;\n",
       "    }\n",
       "\n",
       "    .dataframe tbody tr th {\n",
       "        vertical-align: top;\n",
       "    }\n",
       "\n",
       "    .dataframe thead th {\n",
       "        text-align: right;\n",
       "    }\n",
       "</style>\n",
       "<table border=\"1\" class=\"dataframe\">\n",
       "  <thead>\n",
       "    <tr style=\"text-align: right;\">\n",
       "      <th></th>\n",
       "      <th>Entity</th>\n",
       "      <th>Code</th>\n",
       "      <th>Year</th>\n",
       "      <th>Annual CO₂ Emissions</th>\n",
       "    </tr>\n",
       "  </thead>\n",
       "  <tbody>\n",
       "  </tbody>\n",
       "</table>\n",
       "</div>"
      ],
      "text/plain": [
       "Empty DataFrame\n",
       "Columns: [Entity, Code, Year, Annual CO₂ Emissions]\n",
       "Index: []"
      ]
     },
     "execution_count": 85,
     "metadata": {},
     "output_type": "execute_result"
    }
   ],
   "source": [
    "co2_df_cleaned = co2_level_df.dropna(subset=['Code'])\n",
    "co2_df_cleaned[co2_df_cleaned.isnull().any(axis=1)]"
   ]
  },
  {
   "cell_type": "code",
   "execution_count": 87,
   "id": "3ef19131-7f1f-4e57-adf0-38cb7d2fd84a",
   "metadata": {},
   "outputs": [
    {
     "name": "stdout",
     "output_type": "stream",
     "text": [
      "<class 'pandas.core.frame.DataFrame'>\n",
      "Index: 23497 entries, 0 to 29136\n",
      "Data columns (total 4 columns):\n",
      " #   Column                Non-Null Count  Dtype  \n",
      "---  ------                --------------  -----  \n",
      " 0   Entity                23497 non-null  object \n",
      " 1   Code                  23497 non-null  object \n",
      " 2   Year                  23497 non-null  int64  \n",
      " 3   Annual CO₂ Emissions  23497 non-null  float64\n",
      "dtypes: float64(1), int64(1), object(2)\n",
      "memory usage: 917.9+ KB\n"
     ]
    }
   ],
   "source": [
    "co2_df_cleaned.info()"
   ]
  },
  {
   "cell_type": "code",
   "execution_count": 89,
   "id": "47d60469-a70c-4976-8064-d7c16af2b15e",
   "metadata": {},
   "outputs": [
    {
     "name": "stdout",
     "output_type": "stream",
     "text": [
      "Entity                  0\n",
      "Code                    0\n",
      "Year                    0\n",
      "Annual CO₂ Emissions    0\n",
      "dtype: int64\n"
     ]
    }
   ],
   "source": [
    "print(co2_df_cleaned.isnull().sum())"
   ]
  },
  {
   "cell_type": "code",
   "execution_count": 91,
   "id": "b37bc891-b9ba-496d-8082-4f5d40c5520f",
   "metadata": {},
   "outputs": [],
   "source": [
    "country_codes = [\n",
    "    \"ABW\", \"AFG\", \"AGO\", \"AIA\", \"ALA\", \"ALB\", \"AND\", \"ARE\", \"ARG\", \"ARM\", \"ASM\", \n",
    "    \"ATA\", \"ATF\", \"ATG\", \"AUS\", \"AUT\", \"AZE\", \"BDI\", \"BEL\", \"BEN\", \"BES\", \"BFA\", \n",
    "    \"BGD\", \"BGR\", \"BHR\", \"BHS\", \"BIH\", \"BLM\", \"BLR\", \"BLZ\", \"BMU\", \"BOL\", \"BRA\", \n",
    "    \"BRB\", \"BRN\", \"BTN\", \"BVT\", \"BWA\", \"CAF\", \"CAN\", \"CCK\", \"CHE\", \"CHL\", \"CHN\", \n",
    "    \"CIV\", \"CMR\", \"COD\", \"COG\", \"COK\", \"COL\", \"COM\", \"CPV\", \"CRI\", \"CUB\", \"CUW\", \n",
    "    \"CXR\", \"CYM\", \"CYP\", \"CZE\", \"DEU\", \"DJI\", \"DMA\", \"DNK\", \"DOM\", \"DZA\", \"ECU\", \n",
    "    \"EGY\", \"ERI\", \"ESH\", \"ESP\", \"EST\", \"ETH\", \"FIN\", \"FJI\", \"FLK\", \"FRA\", \"FRO\", \n",
    "    \"FSM\", \"GAB\", \"GBR\", \"GEO\", \"GGY\", \"GHA\", \"GIB\", \"GIN\", \"GLP\", \"GMB\", \"GNB\", \n",
    "    \"GNQ\", \"GRC\", \"GRD\", \"GRL\", \"GTM\", \"GUF\", \"GUM\", \"GUY\", \"HKG\", \"HMD\", \"HND\", \n",
    "    \"HRV\", \"HTI\", \"HUN\", \"IDN\", \"IMN\", \"IND\", \"IOT\", \"IRL\", \"IRN\", \"IRQ\", \"ISL\", \n",
    "    \"ISR\", \"ITA\", \"JAM\", \"JEY\", \"JOR\", \"JPN\", \"KAZ\", \"KEN\", \"KGZ\", \"KHM\", \"KIR\", \n",
    "    \"KNA\", \"KOR\", \"KWT\", \"LAO\", \"LBN\", \"LBR\", \"LBY\", \"LCA\", \"LIE\", \"LKA\", \"LSO\", \n",
    "    \"LTU\", \"LUX\", \"LVA\", \"MAC\", \"MAF\", \"MAR\", \"MCO\", \"MDA\", \"MDG\", \"MDV\", \"MEX\", \n",
    "    \"MHL\", \"MKD\", \"MLI\", \"MLT\", \"MMR\", \"MNE\", \"MNG\", \"MNP\", \"MOZ\", \"MRT\", \"MSR\", \n",
    "    \"MTQ\", \"MUS\", \"MWI\", \"MYS\", \"MYT\", \"NAM\", \"NCL\", \"NER\", \"NFK\", \"NGA\", \"NIC\", \n",
    "    \"NIU\", \"NLD\", \"NOR\", \"NPL\", \"NRU\", \"NZL\", \"OMN\", \"PAK\", \"PAN\", \"PCN\", \"PER\", \n",
    "    \"PHL\", \"PLW\", \"PNG\", \"POL\", \"PRI\", \"PRK\", \"PRT\", \"PRY\", \"PSE\", \"PYF\", \"QAT\", \n",
    "    \"REU\", \"ROU\", \"RUS\", \"RWA\", \"SAU\", \"SDN\", \"SEN\", \"SGP\", \"SGS\", \"SHN\", \"SJM\", \n",
    "    \"SLB\", \"SLE\", \"SLV\", \"SMR\", \"SOM\", \"SPM\", \"SRB\", \"SSD\", \"STP\", \"SUR\", \"SVK\", \n",
    "    \"SVN\", \"SWE\", \"SWZ\", \"SXM\", \"SYC\", \"SYR\", \"TCA\", \"TCD\", \"TGO\", \"THA\", \"TJK\", \n",
    "    \"TKL\", \"TKM\", \"TLS\", \"TON\", \"TTO\", \"TUN\", \"TUR\", \"TUV\", \"TWN\", \"TZA\", \"UGA\", \n",
    "    \"UKR\", \"UMI\", \"URY\", \"USA\", \"UZB\", \"VAT\", \"VCT\", \"VEN\", \"VGB\", \"VIR\", \"VNM\", \n",
    "    \"VUT\", \"WLF\", \"WSM\", \"YEM\", \"ZAF\", \"ZMB\", \"ZWE\"\n",
    "]"
   ]
  },
  {
   "cell_type": "code",
   "execution_count": 93,
   "id": "9f8bcfd8-eb00-4c41-ab23-dd7c24737d2f",
   "metadata": {},
   "outputs": [
    {
     "data": {
      "text/html": [
       "<div>\n",
       "<style scoped>\n",
       "    .dataframe tbody tr th:only-of-type {\n",
       "        vertical-align: middle;\n",
       "    }\n",
       "\n",
       "    .dataframe tbody tr th {\n",
       "        vertical-align: top;\n",
       "    }\n",
       "\n",
       "    .dataframe thead th {\n",
       "        text-align: right;\n",
       "    }\n",
       "</style>\n",
       "<table border=\"1\" class=\"dataframe\">\n",
       "  <thead>\n",
       "    <tr style=\"text-align: right;\">\n",
       "      <th></th>\n",
       "      <th>Entity</th>\n",
       "      <th>Code</th>\n",
       "      <th>Year</th>\n",
       "      <th>Annual CO₂ Emissions</th>\n",
       "    </tr>\n",
       "  </thead>\n",
       "  <tbody>\n",
       "    <tr>\n",
       "      <th>0</th>\n",
       "      <td>Afghanistan</td>\n",
       "      <td>AFG</td>\n",
       "      <td>1949</td>\n",
       "      <td>14656.0</td>\n",
       "    </tr>\n",
       "    <tr>\n",
       "      <th>1</th>\n",
       "      <td>Afghanistan</td>\n",
       "      <td>AFG</td>\n",
       "      <td>1950</td>\n",
       "      <td>84272.0</td>\n",
       "    </tr>\n",
       "    <tr>\n",
       "      <th>2</th>\n",
       "      <td>Afghanistan</td>\n",
       "      <td>AFG</td>\n",
       "      <td>1951</td>\n",
       "      <td>91600.0</td>\n",
       "    </tr>\n",
       "    <tr>\n",
       "      <th>3</th>\n",
       "      <td>Afghanistan</td>\n",
       "      <td>AFG</td>\n",
       "      <td>1952</td>\n",
       "      <td>91600.0</td>\n",
       "    </tr>\n",
       "    <tr>\n",
       "      <th>4</th>\n",
       "      <td>Afghanistan</td>\n",
       "      <td>AFG</td>\n",
       "      <td>1953</td>\n",
       "      <td>106256.0</td>\n",
       "    </tr>\n",
       "  </tbody>\n",
       "</table>\n",
       "</div>"
      ],
      "text/plain": [
       "        Entity Code  Year  Annual CO₂ Emissions\n",
       "0  Afghanistan  AFG  1949               14656.0\n",
       "1  Afghanistan  AFG  1950               84272.0\n",
       "2  Afghanistan  AFG  1951               91600.0\n",
       "3  Afghanistan  AFG  1952               91600.0\n",
       "4  Afghanistan  AFG  1953              106256.0"
      ]
     },
     "execution_count": 93,
     "metadata": {},
     "output_type": "execute_result"
    }
   ],
   "source": [
    "co2_df_cleaned = co2_df_cleaned[co2_df_cleaned[\"Code\"].isin(country_codes)]\n",
    "co2_df_cleaned.head()"
   ]
  },
  {
   "cell_type": "code",
   "execution_count": 95,
   "id": "9c522adc-a313-4b8a-9a7f-4f154f335d6b",
   "metadata": {},
   "outputs": [
    {
     "name": "stdout",
     "output_type": "stream",
     "text": [
      "<class 'pandas.core.frame.DataFrame'>\n",
      "Index: 23193 entries, 0 to 29136\n",
      "Data columns (total 4 columns):\n",
      " #   Column                Non-Null Count  Dtype  \n",
      "---  ------                --------------  -----  \n",
      " 0   Entity                23193 non-null  object \n",
      " 1   Code                  23193 non-null  object \n",
      " 2   Year                  23193 non-null  int64  \n",
      " 3   Annual CO₂ Emissions  23193 non-null  float64\n",
      "dtypes: float64(1), int64(1), object(2)\n",
      "memory usage: 906.0+ KB\n"
     ]
    }
   ],
   "source": [
    "co2_df_cleaned.info()"
   ]
  },
  {
   "cell_type": "markdown",
   "id": "865b1ce3-2054-4222-a6cc-7fd5f3f54568",
   "metadata": {},
   "source": [
    "## Merge Sea Level, Temperature, and CO2 Dataframes"
   ]
  },
  {
   "cell_type": "code",
   "execution_count": 98,
   "id": "a46ceb3d-2793-4415-81b1-63b1f87b8d8f",
   "metadata": {},
   "outputs": [
    {
     "data": {
      "text/plain": [
       "Year\n",
       "1880   -180.236283\n",
       "1881   -173.039065\n",
       "1882   -191.580733\n",
       "1883   -190.455727\n",
       "1884   -166.597397\n",
       "1885   -168.555730\n",
       "1886   -169.597397\n",
       "1887   -176.764062\n",
       "1888   -174.155728\n",
       "1889   -171.480732\n",
       "Name: Global Sea Level Change, dtype: float64"
      ]
     },
     "execution_count": 98,
     "metadata": {},
     "output_type": "execute_result"
    }
   ],
   "source": [
    "sea_avg_df = sea_level_df.groupby(\"Year\")[\"Global Sea Level Change\"].mean()\n",
    "sea_avg_df.head(10)"
   ]
  },
  {
   "cell_type": "code",
   "execution_count": 100,
   "id": "9b936d72-6a6d-463e-b505-9afad0626997",
   "metadata": {},
   "outputs": [
    {
     "data": {
      "text/plain": [
       "144"
      ]
     },
     "execution_count": 100,
     "metadata": {},
     "output_type": "execute_result"
    }
   ],
   "source": [
    "# Check number of unique year values for global temps\n",
    "global_temp_df[\"Year\"].size"
   ]
  },
  {
   "cell_type": "code",
   "execution_count": 102,
   "id": "bead43d5-6847-4d14-83e9-ef174b4858e5",
   "metadata": {},
   "outputs": [
    {
     "data": {
      "text/html": [
       "<div>\n",
       "<style scoped>\n",
       "    .dataframe tbody tr th:only-of-type {\n",
       "        vertical-align: middle;\n",
       "    }\n",
       "\n",
       "    .dataframe tbody tr th {\n",
       "        vertical-align: top;\n",
       "    }\n",
       "\n",
       "    .dataframe thead th {\n",
       "        text-align: right;\n",
       "    }\n",
       "</style>\n",
       "<table border=\"1\" class=\"dataframe\">\n",
       "  <thead>\n",
       "    <tr style=\"text-align: right;\">\n",
       "      <th></th>\n",
       "      <th>Year</th>\n",
       "      <th>Global Temperature Change</th>\n",
       "    </tr>\n",
       "  </thead>\n",
       "  <tbody>\n",
       "    <tr>\n",
       "      <th>139</th>\n",
       "      <td>2019</td>\n",
       "      <td>0.98</td>\n",
       "    </tr>\n",
       "    <tr>\n",
       "      <th>140</th>\n",
       "      <td>2020</td>\n",
       "      <td>1.02</td>\n",
       "    </tr>\n",
       "    <tr>\n",
       "      <th>141</th>\n",
       "      <td>2021</td>\n",
       "      <td>0.84</td>\n",
       "    </tr>\n",
       "    <tr>\n",
       "      <th>142</th>\n",
       "      <td>2022</td>\n",
       "      <td>0.89</td>\n",
       "    </tr>\n",
       "    <tr>\n",
       "      <th>143</th>\n",
       "      <td>2023</td>\n",
       "      <td>1.17</td>\n",
       "    </tr>\n",
       "  </tbody>\n",
       "</table>\n",
       "</div>"
      ],
      "text/plain": [
       "     Year  Global Temperature Change\n",
       "139  2019                       0.98\n",
       "140  2020                       1.02\n",
       "141  2021                       0.84\n",
       "142  2022                       0.89\n",
       "143  2023                       1.17"
      ]
     },
     "execution_count": 102,
     "metadata": {},
     "output_type": "execute_result"
    }
   ],
   "source": [
    "# Check unique year values for global temps\n",
    "global_temp_df.tail()"
   ]
  },
  {
   "cell_type": "code",
   "execution_count": 104,
   "id": "c175ee14-9d5b-4fac-9412-def362298072",
   "metadata": {},
   "outputs": [
    {
     "data": {
      "text/plain": [
       "141"
      ]
     },
     "execution_count": 104,
     "metadata": {},
     "output_type": "execute_result"
    }
   ],
   "source": [
    "# Check number of unique year values for sea levels\n",
    "sea_avg_df.unique().size"
   ]
  },
  {
   "cell_type": "code",
   "execution_count": 106,
   "id": "0e45f750-2dda-438b-82ad-436390759066",
   "metadata": {},
   "outputs": [
    {
     "data": {
      "text/plain": [
       "Index([1880, 1881, 1882, 1883, 1884, 1885, 1886, 1887, 1888, 1889,\n",
       "       ...\n",
       "       2011, 2012, 2013, 2014, 2015, 2016, 2017, 2018, 2019, 2020],\n",
       "      dtype='int32', name='Year', length=141)"
      ]
     },
     "execution_count": 106,
     "metadata": {},
     "output_type": "execute_result"
    }
   ],
   "source": [
    "# Check unique year values for sea levels\n",
    "sea_avg_df.index.unique()"
   ]
  },
  {
   "cell_type": "code",
   "execution_count": 108,
   "id": "7575a7f3-6c50-4367-99c5-2337ea90b678",
   "metadata": {},
   "outputs": [
    {
     "data": {
      "text/html": [
       "<div>\n",
       "<style scoped>\n",
       "    .dataframe tbody tr th:only-of-type {\n",
       "        vertical-align: middle;\n",
       "    }\n",
       "\n",
       "    .dataframe tbody tr th {\n",
       "        vertical-align: top;\n",
       "    }\n",
       "\n",
       "    .dataframe thead th {\n",
       "        text-align: right;\n",
       "    }\n",
       "</style>\n",
       "<table border=\"1\" class=\"dataframe\">\n",
       "  <thead>\n",
       "    <tr style=\"text-align: right;\">\n",
       "      <th></th>\n",
       "      <th>Year</th>\n",
       "      <th>Global Sea Level Change</th>\n",
       "      <th>Global Temperature Change</th>\n",
       "    </tr>\n",
       "  </thead>\n",
       "  <tbody>\n",
       "    <tr>\n",
       "      <th>0</th>\n",
       "      <td>1880</td>\n",
       "      <td>-180.236283</td>\n",
       "      <td>-0.17</td>\n",
       "    </tr>\n",
       "    <tr>\n",
       "      <th>1</th>\n",
       "      <td>1881</td>\n",
       "      <td>-173.039065</td>\n",
       "      <td>-0.09</td>\n",
       "    </tr>\n",
       "    <tr>\n",
       "      <th>2</th>\n",
       "      <td>1882</td>\n",
       "      <td>-191.580733</td>\n",
       "      <td>-0.11</td>\n",
       "    </tr>\n",
       "    <tr>\n",
       "      <th>3</th>\n",
       "      <td>1883</td>\n",
       "      <td>-190.455727</td>\n",
       "      <td>-0.18</td>\n",
       "    </tr>\n",
       "    <tr>\n",
       "      <th>4</th>\n",
       "      <td>1884</td>\n",
       "      <td>-166.597397</td>\n",
       "      <td>-0.28</td>\n",
       "    </tr>\n",
       "  </tbody>\n",
       "</table>\n",
       "</div>"
      ],
      "text/plain": [
       "   Year  Global Sea Level Change  Global Temperature Change\n",
       "0  1880              -180.236283                      -0.17\n",
       "1  1881              -173.039065                      -0.09\n",
       "2  1882              -191.580733                      -0.11\n",
       "3  1883              -190.455727                      -0.18\n",
       "4  1884              -166.597397                      -0.28"
      ]
     },
     "execution_count": 108,
     "metadata": {},
     "output_type": "execute_result"
    }
   ],
   "source": [
    "# Merge two df's on Year using inner to remove last 3 years from global temp df\n",
    "sea_level_temp_df = pd.merge(sea_avg_df, global_temp_df, on=\"Year\", how=\"inner\")\n",
    "\n",
    "# Check first 5 rows in new df\n",
    "sea_level_temp_df.head()"
   ]
  },
  {
   "cell_type": "code",
   "execution_count": 110,
   "id": "9c2d1a7b-94b9-43f8-82bc-acaf9d54502f",
   "metadata": {},
   "outputs": [
    {
     "data": {
      "text/html": [
       "<div>\n",
       "<style scoped>\n",
       "    .dataframe tbody tr th:only-of-type {\n",
       "        vertical-align: middle;\n",
       "    }\n",
       "\n",
       "    .dataframe tbody tr th {\n",
       "        vertical-align: top;\n",
       "    }\n",
       "\n",
       "    .dataframe thead th {\n",
       "        text-align: right;\n",
       "    }\n",
       "</style>\n",
       "<table border=\"1\" class=\"dataframe\">\n",
       "  <thead>\n",
       "    <tr style=\"text-align: right;\">\n",
       "      <th></th>\n",
       "      <th>Year</th>\n",
       "      <th>Global Sea Level Change</th>\n",
       "      <th>Global Temperature Change</th>\n",
       "    </tr>\n",
       "  </thead>\n",
       "  <tbody>\n",
       "    <tr>\n",
       "      <th>136</th>\n",
       "      <td>2016</td>\n",
       "      <td>56.330711</td>\n",
       "      <td>1.01</td>\n",
       "    </tr>\n",
       "    <tr>\n",
       "      <th>137</th>\n",
       "      <td>2017</td>\n",
       "      <td>55.112391</td>\n",
       "      <td>0.92</td>\n",
       "    </tr>\n",
       "    <tr>\n",
       "      <th>138</th>\n",
       "      <td>2018</td>\n",
       "      <td>52.083274</td>\n",
       "      <td>0.85</td>\n",
       "    </tr>\n",
       "    <tr>\n",
       "      <th>139</th>\n",
       "      <td>2019</td>\n",
       "      <td>60.980738</td>\n",
       "      <td>0.98</td>\n",
       "    </tr>\n",
       "    <tr>\n",
       "      <th>140</th>\n",
       "      <td>2020</td>\n",
       "      <td>65.999739</td>\n",
       "      <td>1.02</td>\n",
       "    </tr>\n",
       "  </tbody>\n",
       "</table>\n",
       "</div>"
      ],
      "text/plain": [
       "     Year  Global Sea Level Change  Global Temperature Change\n",
       "136  2016                56.330711                       1.01\n",
       "137  2017                55.112391                       0.92\n",
       "138  2018                52.083274                       0.85\n",
       "139  2019                60.980738                       0.98\n",
       "140  2020                65.999739                       1.02"
      ]
     },
     "execution_count": 110,
     "metadata": {},
     "output_type": "execute_result"
    }
   ],
   "source": [
    "# Check last 5 rows in new df\n",
    "sea_level_temp_df.tail()"
   ]
  },
  {
   "cell_type": "code",
   "execution_count": 112,
   "id": "54c2f6cd-5ac1-4dde-842b-9c1f37524461",
   "metadata": {},
   "outputs": [
    {
     "data": {
      "text/plain": [
       "Year\n",
       "1750    1.861187e+06\n",
       "1751    1.881446e+06\n",
       "1752    1.901034e+06\n",
       "1753    1.922098e+06\n",
       "1754    1.946716e+06\n",
       "            ...     \n",
       "2019    1.667214e+08\n",
       "2020    1.593685e+08\n",
       "2021    1.678572e+08\n",
       "2022    1.686747e+08\n",
       "2023    1.705424e+08\n",
       "Name: Annual CO₂ Emissions, Length: 274, dtype: float64"
      ]
     },
     "execution_count": 112,
     "metadata": {},
     "output_type": "execute_result"
    }
   ],
   "source": [
    "annual_emissions_df = co2_df_cleaned.groupby('Year')['Annual CO₂ Emissions'].mean()\n",
    "annual_emissions_df"
   ]
  },
  {
   "cell_type": "code",
   "execution_count": 114,
   "id": "77a7380e-e8ec-488c-bbbb-63bc7e5311ca",
   "metadata": {},
   "outputs": [
    {
     "data": {
      "text/html": [
       "<div>\n",
       "<style scoped>\n",
       "    .dataframe tbody tr th:only-of-type {\n",
       "        vertical-align: middle;\n",
       "    }\n",
       "\n",
       "    .dataframe tbody tr th {\n",
       "        vertical-align: top;\n",
       "    }\n",
       "\n",
       "    .dataframe thead th {\n",
       "        text-align: right;\n",
       "    }\n",
       "</style>\n",
       "<table border=\"1\" class=\"dataframe\">\n",
       "  <thead>\n",
       "    <tr style=\"text-align: right;\">\n",
       "      <th></th>\n",
       "      <th>Year</th>\n",
       "      <th>Annual CO₂ Emissions</th>\n",
       "    </tr>\n",
       "  </thead>\n",
       "  <tbody>\n",
       "    <tr>\n",
       "      <th>0</th>\n",
       "      <td>1750</td>\n",
       "      <td>1861187.4</td>\n",
       "    </tr>\n",
       "    <tr>\n",
       "      <th>1</th>\n",
       "      <td>1751</td>\n",
       "      <td>1881445.8</td>\n",
       "    </tr>\n",
       "    <tr>\n",
       "      <th>2</th>\n",
       "      <td>1752</td>\n",
       "      <td>1901033.6</td>\n",
       "    </tr>\n",
       "    <tr>\n",
       "      <th>3</th>\n",
       "      <td>1753</td>\n",
       "      <td>1922098.0</td>\n",
       "    </tr>\n",
       "    <tr>\n",
       "      <th>4</th>\n",
       "      <td>1754</td>\n",
       "      <td>1946716.0</td>\n",
       "    </tr>\n",
       "  </tbody>\n",
       "</table>\n",
       "</div>"
      ],
      "text/plain": [
       "   Year  Annual CO₂ Emissions\n",
       "0  1750             1861187.4\n",
       "1  1751             1881445.8\n",
       "2  1752             1901033.6\n",
       "3  1753             1922098.0\n",
       "4  1754             1946716.0"
      ]
     },
     "execution_count": 114,
     "metadata": {},
     "output_type": "execute_result"
    }
   ],
   "source": [
    "annual_emissions_df = pd.DataFrame(annual_emissions_df).reset_index()\n",
    "annual_emissions_df.head()"
   ]
  },
  {
   "cell_type": "code",
   "execution_count": 116,
   "id": "267e25b6-d8a3-4662-8454-8c847ec07eab",
   "metadata": {},
   "outputs": [
    {
     "data": {
      "text/html": [
       "<div>\n",
       "<style scoped>\n",
       "    .dataframe tbody tr th:only-of-type {\n",
       "        vertical-align: middle;\n",
       "    }\n",
       "\n",
       "    .dataframe tbody tr th {\n",
       "        vertical-align: top;\n",
       "    }\n",
       "\n",
       "    .dataframe thead th {\n",
       "        text-align: right;\n",
       "    }\n",
       "</style>\n",
       "<table border=\"1\" class=\"dataframe\">\n",
       "  <thead>\n",
       "    <tr style=\"text-align: right;\">\n",
       "      <th></th>\n",
       "      <th>Year</th>\n",
       "      <th>Annual CO₂ Emissions</th>\n",
       "    </tr>\n",
       "  </thead>\n",
       "  <tbody>\n",
       "    <tr>\n",
       "      <th>130</th>\n",
       "      <td>1880</td>\n",
       "      <td>1.430093e+07</td>\n",
       "    </tr>\n",
       "    <tr>\n",
       "      <th>131</th>\n",
       "      <td>1881</td>\n",
       "      <td>1.455680e+07</td>\n",
       "    </tr>\n",
       "    <tr>\n",
       "      <th>132</th>\n",
       "      <td>1882</td>\n",
       "      <td>1.563147e+07</td>\n",
       "    </tr>\n",
       "    <tr>\n",
       "      <th>133</th>\n",
       "      <td>1883</td>\n",
       "      <td>1.635270e+07</td>\n",
       "    </tr>\n",
       "    <tr>\n",
       "      <th>134</th>\n",
       "      <td>1884</td>\n",
       "      <td>1.654803e+07</td>\n",
       "    </tr>\n",
       "  </tbody>\n",
       "</table>\n",
       "</div>"
      ],
      "text/plain": [
       "     Year  Annual CO₂ Emissions\n",
       "130  1880          1.430093e+07\n",
       "131  1881          1.455680e+07\n",
       "132  1882          1.563147e+07\n",
       "133  1883          1.635270e+07\n",
       "134  1884          1.654803e+07"
      ]
     },
     "execution_count": 116,
     "metadata": {},
     "output_type": "execute_result"
    }
   ],
   "source": [
    "# Filter the DataFrame for years between 1880 and 2020 (inclusive)\n",
    "annual_emissions_filtered_df = annual_emissions_df[(annual_emissions_df['Year'] >= 1880) & (annual_emissions_df['Year'] <= 2020)]\n",
    "\n",
    "# Display the filtered DataFrame\n",
    "annual_emissions_filtered_df.head()"
   ]
  },
  {
   "cell_type": "code",
   "execution_count": 118,
   "id": "12cf845f-cf39-49d7-a4ef-9659c9ef7db5",
   "metadata": {},
   "outputs": [
    {
     "data": {
      "text/html": [
       "<div>\n",
       "<style scoped>\n",
       "    .dataframe tbody tr th:only-of-type {\n",
       "        vertical-align: middle;\n",
       "    }\n",
       "\n",
       "    .dataframe tbody tr th {\n",
       "        vertical-align: top;\n",
       "    }\n",
       "\n",
       "    .dataframe thead th {\n",
       "        text-align: right;\n",
       "    }\n",
       "</style>\n",
       "<table border=\"1\" class=\"dataframe\">\n",
       "  <thead>\n",
       "    <tr style=\"text-align: right;\">\n",
       "      <th></th>\n",
       "      <th>Year</th>\n",
       "      <th>Annual CO₂ Emissions</th>\n",
       "    </tr>\n",
       "  </thead>\n",
       "  <tbody>\n",
       "    <tr>\n",
       "      <th>266</th>\n",
       "      <td>2016</td>\n",
       "      <td>1.592328e+08</td>\n",
       "    </tr>\n",
       "    <tr>\n",
       "      <th>267</th>\n",
       "      <td>2017</td>\n",
       "      <td>1.617301e+08</td>\n",
       "    </tr>\n",
       "    <tr>\n",
       "      <th>268</th>\n",
       "      <td>2018</td>\n",
       "      <td>1.650013e+08</td>\n",
       "    </tr>\n",
       "    <tr>\n",
       "      <th>269</th>\n",
       "      <td>2019</td>\n",
       "      <td>1.667214e+08</td>\n",
       "    </tr>\n",
       "    <tr>\n",
       "      <th>270</th>\n",
       "      <td>2020</td>\n",
       "      <td>1.593685e+08</td>\n",
       "    </tr>\n",
       "  </tbody>\n",
       "</table>\n",
       "</div>"
      ],
      "text/plain": [
       "     Year  Annual CO₂ Emissions\n",
       "266  2016          1.592328e+08\n",
       "267  2017          1.617301e+08\n",
       "268  2018          1.650013e+08\n",
       "269  2019          1.667214e+08\n",
       "270  2020          1.593685e+08"
      ]
     },
     "execution_count": 118,
     "metadata": {},
     "output_type": "execute_result"
    }
   ],
   "source": [
    "annual_emissions_filtered_df.tail()"
   ]
  },
  {
   "cell_type": "code",
   "execution_count": 120,
   "id": "83340d43-285a-4d1f-80b0-a68069e7e777",
   "metadata": {},
   "outputs": [
    {
     "data": {
      "text/html": [
       "<div>\n",
       "<style scoped>\n",
       "    .dataframe tbody tr th:only-of-type {\n",
       "        vertical-align: middle;\n",
       "    }\n",
       "\n",
       "    .dataframe tbody tr th {\n",
       "        vertical-align: top;\n",
       "    }\n",
       "\n",
       "    .dataframe thead th {\n",
       "        text-align: right;\n",
       "    }\n",
       "</style>\n",
       "<table border=\"1\" class=\"dataframe\">\n",
       "  <thead>\n",
       "    <tr style=\"text-align: right;\">\n",
       "      <th></th>\n",
       "      <th>Year</th>\n",
       "      <th>Annual CO₂ Emissions</th>\n",
       "      <th>Global Sea Level Change</th>\n",
       "      <th>Global Temperature Change</th>\n",
       "    </tr>\n",
       "  </thead>\n",
       "  <tbody>\n",
       "    <tr>\n",
       "      <th>0</th>\n",
       "      <td>1880</td>\n",
       "      <td>1.430093e+07</td>\n",
       "      <td>-180.236283</td>\n",
       "      <td>-0.17</td>\n",
       "    </tr>\n",
       "    <tr>\n",
       "      <th>1</th>\n",
       "      <td>1881</td>\n",
       "      <td>1.455680e+07</td>\n",
       "      <td>-173.039065</td>\n",
       "      <td>-0.09</td>\n",
       "    </tr>\n",
       "    <tr>\n",
       "      <th>2</th>\n",
       "      <td>1882</td>\n",
       "      <td>1.563147e+07</td>\n",
       "      <td>-191.580733</td>\n",
       "      <td>-0.11</td>\n",
       "    </tr>\n",
       "    <tr>\n",
       "      <th>3</th>\n",
       "      <td>1883</td>\n",
       "      <td>1.635270e+07</td>\n",
       "      <td>-190.455727</td>\n",
       "      <td>-0.18</td>\n",
       "    </tr>\n",
       "    <tr>\n",
       "      <th>4</th>\n",
       "      <td>1884</td>\n",
       "      <td>1.654803e+07</td>\n",
       "      <td>-166.597397</td>\n",
       "      <td>-0.28</td>\n",
       "    </tr>\n",
       "  </tbody>\n",
       "</table>\n",
       "</div>"
      ],
      "text/plain": [
       "   Year  Annual CO₂ Emissions  Global Sea Level Change  \\\n",
       "0  1880          1.430093e+07              -180.236283   \n",
       "1  1881          1.455680e+07              -173.039065   \n",
       "2  1882          1.563147e+07              -191.580733   \n",
       "3  1883          1.635270e+07              -190.455727   \n",
       "4  1884          1.654803e+07              -166.597397   \n",
       "\n",
       "   Global Temperature Change  \n",
       "0                      -0.17  \n",
       "1                      -0.09  \n",
       "2                      -0.11  \n",
       "3                      -0.18  \n",
       "4                      -0.28  "
      ]
     },
     "execution_count": 120,
     "metadata": {},
     "output_type": "execute_result"
    }
   ],
   "source": [
    "sea_temp_emissions_df = pd.merge(annual_emissions_filtered_df, sea_level_temp_df, on='Year', how='inner')\n",
    "\n",
    "# Display the merged DataFrame\n",
    "sea_temp_emissions_df.head()"
   ]
  },
  {
   "cell_type": "code",
   "execution_count": 122,
   "id": "0f72ef47-d082-435d-896f-afc86d54f93e",
   "metadata": {},
   "outputs": [
    {
     "data": {
      "text/html": [
       "<div>\n",
       "<style scoped>\n",
       "    .dataframe tbody tr th:only-of-type {\n",
       "        vertical-align: middle;\n",
       "    }\n",
       "\n",
       "    .dataframe tbody tr th {\n",
       "        vertical-align: top;\n",
       "    }\n",
       "\n",
       "    .dataframe thead th {\n",
       "        text-align: right;\n",
       "    }\n",
       "</style>\n",
       "<table border=\"1\" class=\"dataframe\">\n",
       "  <thead>\n",
       "    <tr style=\"text-align: right;\">\n",
       "      <th></th>\n",
       "      <th>Year</th>\n",
       "      <th>Annual CO₂ Emissions</th>\n",
       "      <th>Global Sea Level Change</th>\n",
       "      <th>Global Temperature Change</th>\n",
       "    </tr>\n",
       "  </thead>\n",
       "  <tbody>\n",
       "    <tr>\n",
       "      <th>136</th>\n",
       "      <td>2016</td>\n",
       "      <td>1.592328e+08</td>\n",
       "      <td>56.330711</td>\n",
       "      <td>1.01</td>\n",
       "    </tr>\n",
       "    <tr>\n",
       "      <th>137</th>\n",
       "      <td>2017</td>\n",
       "      <td>1.617301e+08</td>\n",
       "      <td>55.112391</td>\n",
       "      <td>0.92</td>\n",
       "    </tr>\n",
       "    <tr>\n",
       "      <th>138</th>\n",
       "      <td>2018</td>\n",
       "      <td>1.650013e+08</td>\n",
       "      <td>52.083274</td>\n",
       "      <td>0.85</td>\n",
       "    </tr>\n",
       "    <tr>\n",
       "      <th>139</th>\n",
       "      <td>2019</td>\n",
       "      <td>1.667214e+08</td>\n",
       "      <td>60.980738</td>\n",
       "      <td>0.98</td>\n",
       "    </tr>\n",
       "    <tr>\n",
       "      <th>140</th>\n",
       "      <td>2020</td>\n",
       "      <td>1.593685e+08</td>\n",
       "      <td>65.999739</td>\n",
       "      <td>1.02</td>\n",
       "    </tr>\n",
       "  </tbody>\n",
       "</table>\n",
       "</div>"
      ],
      "text/plain": [
       "     Year  Annual CO₂ Emissions  Global Sea Level Change  \\\n",
       "136  2016          1.592328e+08                56.330711   \n",
       "137  2017          1.617301e+08                55.112391   \n",
       "138  2018          1.650013e+08                52.083274   \n",
       "139  2019          1.667214e+08                60.980738   \n",
       "140  2020          1.593685e+08                65.999739   \n",
       "\n",
       "     Global Temperature Change  \n",
       "136                       1.01  \n",
       "137                       0.92  \n",
       "138                       0.85  \n",
       "139                       0.98  \n",
       "140                       1.02  "
      ]
     },
     "execution_count": 122,
     "metadata": {},
     "output_type": "execute_result"
    }
   ],
   "source": [
    "sea_temp_emissions_df.tail()"
   ]
  },
  {
   "cell_type": "markdown",
   "id": "1591b8cb-7e5c-4254-8d41-d3c826fcbdfc",
   "metadata": {},
   "source": [
    "## Visualizations"
   ]
  },
  {
   "cell_type": "code",
   "execution_count": 143,
   "id": "aab48079-e621-4f6d-a4df-e238387baece",
   "metadata": {},
   "outputs": [
    {
     "data": {
      "image/png": "[encoded data removed]",
      "text/plain": [
       "<Figure size 640x480 with 1 Axes>"
      ]
     },
     "metadata": {},
     "output_type": "display_data"
    }
   ],
   "source": [
    "# Line graph showing sea level over time\n",
    "year_values = sea_temp_emissions_df[\"Year\"]\n",
    "sea_values = sea_temp_emissions_df[\"Global Sea Level Change\"]\n",
    "\n",
    "plt.plot(year_values, sea_values)\n",
    "plt.title(\"Change in Global Sea Level\")\n",
    "plt.xlabel(\"Year\")\n",
    "plt.ylabel(\"Change in Sea Level (mm)\")\n",
    "\n",
    "#save figure\n",
    "plt.savefig(\"output_data/Fig1.png\")\n",
    "\n",
    "plt.show()"
   ]
  },
  {
   "cell_type": "code",
   "execution_count": 145,
   "id": "76b0cfca-7ef0-4aa2-b9b4-fb04fd9890ac",
   "metadata": {},
   "outputs": [
    {
     "data": {
      "image/png": "[encoded data removed]",
      "text/plain": [
       "<Figure size 640x480 with 1 Axes>"
      ]
     },
     "metadata": {},
     "output_type": "display_data"
    }
   ],
   "source": [
    "# Line graph showing temperatures over time\n",
    "year_values = sea_temp_emissions_df[\"Year\"]\n",
    "temp_values = sea_temp_emissions_df[\"Global Temperature Change\"]\n",
    "\n",
    "plt.plot(year_values, temp_values)\n",
    "plt.title(\"Change in Global Surface Temperature\")\n",
    "plt.xlabel(\"Year\")\n",
    "plt.ylabel(\"Change in Temperature (C)\")\n",
    "\n",
    "#save figure\n",
    "plt.savefig(\"output_data/Fig2.png\")\n",
    "\n",
    "plt.show()"
   ]
  },
  {
   "cell_type": "code",
   "execution_count": 147,
   "id": "49694daa-f464-4a4d-975c-9d232ccbf923",
   "metadata": {},
   "outputs": [
    {
     "data": {
      "text/plain": [
       "<function matplotlib.pyplot.show(close=None, block=None)>"
      ]
     },
     "execution_count": 147,
     "metadata": {},
     "output_type": "execute_result"
    },
    {
     "data": {
      "image/png": "[encoded data removed]",
      "text/plain": [
       "<Figure size 640x480 with 1 Axes>"
      ]
     },
     "metadata": {},
     "output_type": "display_data"
    }
   ],
   "source": [
    "#scatter plot for sea level change vs. global temperatures\n",
    "plt.scatter(sea_temp_emissions_df['Global Temperature Change'], sea_temp_emissions_df['Global Sea Level Change'], edgecolor='black', alpha=0.75)\n",
    "\n",
    "#graph properties\n",
    "plt.title(\"Global Temperature Changes vs. Global Sea Level Changes\")\n",
    "plt.xlabel(\"Global Temperature\")\n",
    "plt.ylabel(\"Global Sea Level\")\n",
    "plt.grid()\n",
    "\n",
    "#save figure\n",
    "plt.savefig(\"output_data/Fig3.png\")\n",
    "\n",
    "plt.show"
   ]
  },
  {
   "cell_type": "code",
   "execution_count": 149,
   "id": "74c3980e-236a-4863-872a-0c84a6038892",
   "metadata": {},
   "outputs": [],
   "source": [
    "#define function to create linear regression\n",
    "def linear_regression(x, y):\n",
    "    (slope, intercept, rvalue, pvalue, stderr) = linregress(x, y)\n",
    "    regress_values = x * slope + intercept\n",
    "    line_eq = \"y = \" + str(round(slope,2)) + \"x + \" + str(round(intercept,2))\n",
    "    return regress_values, line_eq, rvalue"
   ]
  },
  {
   "cell_type": "code",
   "execution_count": 151,
   "id": "35331f53-0f0b-4701-86e7-a8d095634ca9",
   "metadata": {},
   "outputs": [
    {
     "name": "stdout",
     "output_type": "stream",
     "text": [
      "The r^2 value is : 0.8299105724331507\n"
     ]
    },
    {
     "data": {
      "image/png": "[encoded data removed]",
      "text/plain": [
       "<Figure size 640x480 with 1 Axes>"
      ]
     },
     "metadata": {},
     "output_type": "display_data"
    }
   ],
   "source": [
    "#lineral regression\n",
    "x_values = sea_temp_emissions_df[\"Global Temperature Change\"]\n",
    "y_values = sea_temp_emissions_df[\"Global Sea Level Change\"]\n",
    "\n",
    "plt.scatter(x_values, y_values)\n",
    "\n",
    "regress_values, line_eq, rvalue = linear_regression(x_values, y_values)\n",
    "plt.plot(x_values, regress_values, 'r-')\n",
    "plt.annotate(line_eq,(0.2, -155),fontsize=15,color='red')\n",
    "plt.title(\"Global Temperature and Global Sea Level Correlation\")\n",
    "plt.xlabel('Global Temperature')\n",
    "plt.ylabel('Global Sea Level Change')\n",
    "\n",
    "print(f\"The r^2 value is : {rvalue**2}\")\n",
    "\n",
    "#save figure\n",
    "plt.savefig(\"output_data/Fig4.png\")\n",
    "\n",
    "plt.show()"
   ]
  },
  {
   "cell_type": "code",
   "execution_count": 157,
   "id": "b787bd5a-5f28-47d0-8dee-d54263159697",
   "metadata": {},
   "outputs": [
    {
     "data": {
      "image/png": "[encoded data removed]",
      "text/plain": [
       "<Figure size 640x480 with 1 Axes>"
      ]
     },
     "metadata": {},
     "output_type": "display_data"
    }
   ],
   "source": [
    "#line graph pf global emissions over time\n",
    "year_values = sea_temp_emissions_df['Year']\n",
    "emission_values = sea_temp_emissions_df['Annual CO₂ Emissions']\n",
    "\n",
    "plt.plot(year_values, emission_values)\n",
    "plt.title('CO₂ Emissions Over Time')\n",
    "plt.xlabel('Year')\n",
    "plt.ylabel('Annual CO₂ Emissions')\n",
    "\n",
    "#save figure\n",
    "plt.savefig(\"output_data/Fig5.png\")\n",
    "\n",
    "plt.show()"
   ]
  },
  {
   "cell_type": "code",
   "execution_count": 161,
   "id": "c8802169-5c09-47fd-b9e0-8edc1e548589",
   "metadata": {},
   "outputs": [
    {
     "data": {
      "text/plain": [
       "<function matplotlib.pyplot.show(close=None, block=None)>"
      ]
     },
     "execution_count": 161,
     "metadata": {},
     "output_type": "execute_result"
    },
    {
     "data": {
      "image/png": "[encoded data removed]",
      "text/plain": [
       "<Figure size 640x480 with 1 Axes>"
      ]
     },
     "metadata": {},
     "output_type": "display_data"
    }
   ],
   "source": [
    "#scatter plot for sea level change vs. global temperatures\n",
    "plt.scatter(sea_temp_emissions_df['Annual CO₂ Emissions'], sea_temp_emissions_df['Global Sea Level Change'], edgecolor='black', alpha=0.75)\n",
    "\n",
    "#graph properties\n",
    "plt.title(\"Annual CO₂ Emissions vs. Global Sea Level Changes\")\n",
    "plt.xlabel(\"Annual CO₂ Emissions\")\n",
    "plt.ylabel(\"Global Sea Level\")\n",
    "plt.grid()\n",
    "\n",
    "#save figure\n",
    "plt.savefig(\"output_data/Fig6.png\")\n",
    "\n",
    "plt.show"
   ]
  },
  {
   "cell_type": "code",
   "execution_count": 165,
   "id": "d8ef185e-f348-4d9f-a734-2d3f5809f37b",
   "metadata": {},
   "outputs": [
    {
     "name": "stdout",
     "output_type": "stream",
     "text": [
      "The r^2 value is : 0.9204995857589146\n"
     ]
    },
    {
     "data": {
      "image/png": "[encoded data removed]",
      "text/plain": [
       "<Figure size 640x480 with 1 Axes>"
      ]
     },
     "metadata": {},
     "output_type": "display_data"
    }
   ],
   "source": [
    "#lineral regression\n",
    "x_values = sea_temp_emissions_df[\"Annual CO₂ Emissions\"]\n",
    "y_values = sea_temp_emissions_df[\"Global Sea Level Change\"]\n",
    "\n",
    "plt.scatter(x_values, y_values)\n",
    "\n",
    "regress_values, line_eq, rvalue = linear_regression(x_values, y_values)\n",
    "plt.plot(x_values, regress_values, 'r-')\n",
    "plt.annotate(line_eq,(0.61e8, -155),fontsize=15,color='red')\n",
    "plt.title(\"Annual CO₂ Emissions and Global Sea Level Correlation\")\n",
    "plt.xlabel('Annual CO₂ Emissions')\n",
    "plt.ylabel('Global Sea Level Change')\n",
    "\n",
    "print(f\"The r^2 value is : {rvalue**2}\")\n",
    "\n",
    "#save figure\n",
    "plt.savefig(\"output_data/Fig7.png\")\n",
    "\n",
    "plt.show()"
   ]
  },
  {
   "cell_type": "code",
   "execution_count": 167,
   "id": "cabeb274-8d35-4734-ad2c-2b45d6592718",
   "metadata": {},
   "outputs": [
    {
     "data": {
      "text/plain": [
       "<function matplotlib.pyplot.show(close=None, block=None)>"
      ]
     },
     "execution_count": 167,
     "metadata": {},
     "output_type": "execute_result"
    },
    {
     "data": {
      "image/png": "[encoded data removed]",
      "text/plain": [
       "<Figure size 640x480 with 1 Axes>"
      ]
     },
     "metadata": {},
     "output_type": "display_data"
    }
   ],
   "source": [
    "#scatter plot for sea level change vs. global temperatures\n",
    "plt.scatter(sea_temp_emissions_df['Annual CO₂ Emissions'], sea_temp_emissions_df['Global Temperature Change'], edgecolor='black', alpha=0.75)\n",
    "\n",
    "#graph properties\n",
    "plt.title(\"Annual CO₂ Emissions vs. Global Temperature Change\")\n",
    "plt.xlabel(\"Annual CO₂ Emissions\")\n",
    "plt.ylabel(\"Global Temperature Change\")\n",
    "plt.grid()\n",
    "\n",
    "#save figure\n",
    "plt.savefig(\"output_data/Fig8.png\")\n",
    "\n",
    "plt.show"
   ]
  },
  {
   "cell_type": "code",
   "execution_count": 171,
   "id": "30c1010c-2cc7-426d-8af4-fea57dcccbff",
   "metadata": {},
   "outputs": [
    {
     "name": "stdout",
     "output_type": "stream",
     "text": [
      "The r^2 value is : 0.8451948697817372\n"
     ]
    },
    {
     "data": {
      "image/png": "[encoded data removed]",
      "text/plain": [
       "<Figure size 640x480 with 1 Axes>"
      ]
     },
     "metadata": {},
     "output_type": "display_data"
    }
   ],
   "source": [
    "#lineral regression\n",
    "x_values = sea_temp_emissions_df[\"Annual CO₂ Emissions\"]\n",
    "y_values = sea_temp_emissions_df[\"Global Temperature Change\"]\n",
    "\n",
    "plt.scatter(x_values, y_values)\n",
    "\n",
    "regress_values, line_eq, rvalue = linear_regression(x_values, y_values)\n",
    "plt.plot(x_values, regress_values, 'r-')\n",
    "plt.annotate(line_eq,(0.61e8, -0.4),fontsize=15,color='red')\n",
    "plt.title(\"Annual CO₂ Emissions and Global Temperature Change\")\n",
    "plt.xlabel('Annual CO₂ Emissions')\n",
    "plt.ylabel('Global Temperature Change')\n",
    "\n",
    "print(f\"The r^2 value is : {rvalue**2}\")\n",
    "\n",
    "#save figure\n",
    "plt.savefig(\"output_data/Fig9.png\")\n",
    "\n",
    "plt.show()"
   ]
  },
  {
   "cell_type": "code",
   "execution_count": 193,
   "id": "17bc9377-7396-4370-a999-4a3b2bdc0926",
   "metadata": {},
   "outputs": [
    {
     "data": {
      "text/plain": [
       "TtestResult(statistic=18.175610001534483, pvalue=1.1556806877997309e-38, df=140.0)"
      ]
     },
     "execution_count": 193,
     "metadata": {},
     "output_type": "execute_result"
    }
   ],
   "source": [
    "emissions = sea_temp_emissions_df[\"Annual CO₂ Emissions\"]\n",
    "temp = sea_temp_emissions_df[\"Global Temperature Change\"]\n",
    "\n",
    "stats.ttest_ind(emissions, temp, equal_var=False)"
   ]
  },
  {
   "cell_type": "markdown",
   "id": "58b9b92b-b2ba-40b7-9d68-fa7e1f77f016",
   "metadata": {},
   "source": [
    "A larger absolute value of the t-statistic means there is a larger difference between the groups.\n",
    "\n",
    "A p-value this small strongly suggests rejecting the null hypothesis, meaning the difference between the groups is statistically significant."
   ]
  },
  {
   "cell_type": "code",
   "execution_count": null,
   "id": "999e37cc-53b0-43f8-b1a7-65630c378f3a",
   "metadata": {},
   "outputs": [],
   "source": []
  }
 ],
 "metadata": {
  "kernelspec": {
   "display_name": "dev",
   "language": "python",
   "name": "dev"
  },
  "language_info": {
   "codemirror_mode": {
    "name": "ipython",
    "version": 3
   },
   "file_extension": ".py",
   "mimetype": "text/x-python",
   "name": "python",
   "nbconvert_exporter": "python",
   "pygments_lexer": "ipython3",
   "version": "3.12.4"
  }
 },
 "nbformat": 4,
 "nbformat_minor": 5
}
