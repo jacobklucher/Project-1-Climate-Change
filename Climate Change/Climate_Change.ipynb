{
 "cells": [
  {
   "cell_type": "code",
   "execution_count": 79,
   "id": "7f95660a-3d75-4c78-b1ba-d91022728863",
   "metadata": {},
   "outputs": [],
   "source": [
    "# Import Statements\n",
    "import pandas as pd\n",
    "import matplotlib.pyplot as plt"
   ]
  },
  {
   "cell_type": "code",
   "execution_count": 81,
   "id": "214f03a5-be68-4852-a4f6-1caa41f71fd4",
   "metadata": {},
   "outputs": [],
   "source": [
    "# Create dataframe from csv\n",
    "global_temp = \"Resources/Global_annual_mean_temp.csv\"\n",
    "sea_level = \"Resources/sea-levels-news-updated-years.csv\"\n",
    "\n",
    "sea_level_df = pd.read_csv(sea_level)\n",
    "global_temp_df = pd.read_csv(global_temp)"
   ]
  },
  {
   "cell_type": "code",
   "execution_count": 83,
   "id": "9a01bc4d-6b49-45c5-a45c-86283cc48370",
   "metadata": {},
   "outputs": [
    {
     "data": {
      "text/html": [
       "<div>\n",
       "<style scoped>\n",
       "    .dataframe tbody tr th:only-of-type {\n",
       "        vertical-align: middle;\n",
       "    }\n",
       "\n",
       "    .dataframe tbody tr th {\n",
       "        vertical-align: top;\n",
       "    }\n",
       "\n",
       "    .dataframe thead th {\n",
       "        text-align: right;\n",
       "    }\n",
       "</style>\n",
       "<table border=\"1\" class=\"dataframe\">\n",
       "  <thead>\n",
       "    <tr style=\"text-align: right;\">\n",
       "      <th></th>\n",
       "      <th>Year</th>\n",
       "      <th>No_Smoothing</th>\n",
       "      <th>Lowess(5)</th>\n",
       "    </tr>\n",
       "  </thead>\n",
       "  <tbody>\n",
       "    <tr>\n",
       "      <th>0</th>\n",
       "      <td>1880</td>\n",
       "      <td>-0.17</td>\n",
       "      <td>-0.10</td>\n",
       "    </tr>\n",
       "    <tr>\n",
       "      <th>1</th>\n",
       "      <td>1881</td>\n",
       "      <td>-0.09</td>\n",
       "      <td>-0.13</td>\n",
       "    </tr>\n",
       "    <tr>\n",
       "      <th>2</th>\n",
       "      <td>1882</td>\n",
       "      <td>-0.11</td>\n",
       "      <td>-0.17</td>\n",
       "    </tr>\n",
       "    <tr>\n",
       "      <th>3</th>\n",
       "      <td>1883</td>\n",
       "      <td>-0.18</td>\n",
       "      <td>-0.20</td>\n",
       "    </tr>\n",
       "    <tr>\n",
       "      <th>4</th>\n",
       "      <td>1884</td>\n",
       "      <td>-0.28</td>\n",
       "      <td>-0.24</td>\n",
       "    </tr>\n",
       "  </tbody>\n",
       "</table>\n",
       "</div>"
      ],
      "text/plain": [
       "   Year  No_Smoothing  Lowess(5)\n",
       "0  1880         -0.17      -0.10\n",
       "1  1881         -0.09      -0.13\n",
       "2  1882         -0.11      -0.17\n",
       "3  1883         -0.18      -0.20\n",
       "4  1884         -0.28      -0.24"
      ]
     },
     "execution_count": 83,
     "metadata": {},
     "output_type": "execute_result"
    }
   ],
   "source": [
    "global_temp_df.head()"
   ]
  },
  {
   "cell_type": "code",
   "execution_count": 85,
   "id": "15fa73a7-6591-4228-b323-107d1d7e9e86",
   "metadata": {},
   "outputs": [
    {
     "data": {
      "text/html": [
       "<div>\n",
       "<style scoped>\n",
       "    .dataframe tbody tr th:only-of-type {\n",
       "        vertical-align: middle;\n",
       "    }\n",
       "\n",
       "    .dataframe tbody tr th {\n",
       "        vertical-align: top;\n",
       "    }\n",
       "\n",
       "    .dataframe thead th {\n",
       "        text-align: right;\n",
       "    }\n",
       "</style>\n",
       "<table border=\"1\" class=\"dataframe\">\n",
       "  <thead>\n",
       "    <tr style=\"text-align: right;\">\n",
       "      <th></th>\n",
       "      <th>country</th>\n",
       "      <th>Day</th>\n",
       "      <th>Global sea level according to Church and White (2011)</th>\n",
       "      <th>Global sea level as an average of Church and White (2011) and UHSLC data</th>\n",
       "    </tr>\n",
       "  </thead>\n",
       "  <tbody>\n",
       "    <tr>\n",
       "      <th>0</th>\n",
       "      <td>World</td>\n",
       "      <td>1880-04-15</td>\n",
       "      <td>-183.31406</td>\n",
       "      <td>-183.31406</td>\n",
       "    </tr>\n",
       "    <tr>\n",
       "      <th>1</th>\n",
       "      <td>World</td>\n",
       "      <td>1880-07-15</td>\n",
       "      <td>-183.24739</td>\n",
       "      <td>-183.24739</td>\n",
       "    </tr>\n",
       "    <tr>\n",
       "      <th>2</th>\n",
       "      <td>World</td>\n",
       "      <td>1880-10-15</td>\n",
       "      <td>-174.14740</td>\n",
       "      <td>-174.14740</td>\n",
       "    </tr>\n",
       "    <tr>\n",
       "      <th>3</th>\n",
       "      <td>World</td>\n",
       "      <td>1881-01-15</td>\n",
       "      <td>-159.68073</td>\n",
       "      <td>-159.68073</td>\n",
       "    </tr>\n",
       "    <tr>\n",
       "      <th>4</th>\n",
       "      <td>World</td>\n",
       "      <td>1881-04-15</td>\n",
       "      <td>-172.41406</td>\n",
       "      <td>-172.41406</td>\n",
       "    </tr>\n",
       "  </tbody>\n",
       "</table>\n",
       "</div>"
      ],
      "text/plain": [
       "  country         Day  Global sea level according to Church and White (2011)  \\\n",
       "0   World  1880-04-15                                         -183.31406       \n",
       "1   World  1880-07-15                                         -183.24739       \n",
       "2   World  1880-10-15                                         -174.14740       \n",
       "3   World  1881-01-15                                         -159.68073       \n",
       "4   World  1881-04-15                                         -172.41406       \n",
       "\n",
       "   Global sea level as an average of Church and White (2011) and UHSLC data  \n",
       "0                                         -183.31406                         \n",
       "1                                         -183.24739                         \n",
       "2                                         -174.14740                         \n",
       "3                                         -159.68073                         \n",
       "4                                         -172.41406                         "
      ]
     },
     "execution_count": 85,
     "metadata": {},
     "output_type": "execute_result"
    }
   ],
   "source": [
    "sea_level_df.head()"
   ]
  },
  {
   "cell_type": "code",
   "execution_count": 93,
   "id": "a994f86a-850f-46d0-a2e9-d3f6a1c22d0b",
   "metadata": {},
   "outputs": [
    {
     "data": {
      "text/plain": [
       "Year\n",
       "1880   -180.236283\n",
       "1881   -173.039065\n",
       "1882   -191.580733\n",
       "1883   -190.455727\n",
       "1884   -166.597397\n",
       "1885   -168.555730\n",
       "1886   -169.597397\n",
       "1887   -176.764062\n",
       "1888   -174.155728\n",
       "1889   -171.480732\n",
       "Name: Global sea level according to Church and White (2011), dtype: float64"
      ]
     },
     "execution_count": 93,
     "metadata": {},
     "output_type": "execute_result"
    }
   ],
   "source": [
    "# Average Year values together to create one single year value per row\n",
    "sea_level_df[\"Day\"] = pd.to_datetime(sea_level_df[\"Day\"])\n",
    "\n",
    "sea_level_df[\"Year\"] = sea_level_df[\"Day\"].dt.year\n",
    "\n",
    "avg_df = sea_level_df.groupby(\"Year\")[\"Global sea level according to Church and White (2011)\"].mean()\n",
    "avg_df.head(10)"
   ]
  },
  {
   "cell_type": "code",
   "execution_count": 95,
   "id": "6fe8144a-d624-4719-ae3e-fdcb987553c9",
   "metadata": {},
   "outputs": [
    {
     "data": {
      "text/plain": [
       "144"
      ]
     },
     "execution_count": 95,
     "metadata": {},
     "output_type": "execute_result"
    }
   ],
   "source": [
    "# Check number of unique year values for global temps\n",
    "global_temp_df[\"Year\"].unique().size"
   ]
  },
  {
   "cell_type": "code",
   "execution_count": 97,
   "id": "cec4b8a3-083a-41fa-8907-c5dbc323cb52",
   "metadata": {},
   "outputs": [
    {
     "data": {
      "text/plain": [
       "141"
      ]
     },
     "execution_count": 97,
     "metadata": {},
     "output_type": "execute_result"
    }
   ],
   "source": [
    "# Check number of unique year values for sea levels\n",
    "avg_df.unique().size"
   ]
  },
  {
   "cell_type": "code",
   "execution_count": 99,
   "id": "5ceda7cf-04a0-4db3-975e-4aeb93290fa5",
   "metadata": {},
   "outputs": [
    {
     "data": {
      "text/plain": [
       "Index([1880, 1881, 1882, 1883, 1884, 1885, 1886, 1887, 1888, 1889,\n",
       "       ...\n",
       "       2011, 2012, 2013, 2014, 2015, 2016, 2017, 2018, 2019, 2020],\n",
       "      dtype='int32', name='Year', length=141)"
      ]
     },
     "execution_count": 99,
     "metadata": {},
     "output_type": "execute_result"
    }
   ],
   "source": [
    "# Check unique year values for sea levels\n",
    "avg_df.index.unique()"
   ]
  },
  {
   "cell_type": "code",
   "execution_count": 101,
   "id": "2836c55c-8952-4288-938b-7531c6a18d83",
   "metadata": {},
   "outputs": [
    {
     "data": {
      "text/plain": [
       "array([1880, 1881, 1882, 1883, 1884, 1885, 1886, 1887, 1888, 1889, 1890,\n",
       "       1891, 1892, 1893, 1894, 1895, 1896, 1897, 1898, 1899, 1900, 1901,\n",
       "       1902, 1903, 1904, 1905, 1906, 1907, 1908, 1909, 1910, 1911, 1912,\n",
       "       1913, 1914, 1915, 1916, 1917, 1918, 1919, 1920, 1921, 1922, 1923,\n",
       "       1924, 1925, 1926, 1927, 1928, 1929, 1930, 1931, 1932, 1933, 1934,\n",
       "       1935, 1936, 1937, 1938, 1939, 1940, 1941, 1942, 1943, 1944, 1945,\n",
       "       1946, 1947, 1948, 1949, 1950, 1951, 1952, 1953, 1954, 1955, 1956,\n",
       "       1957, 1958, 1959, 1960, 1961, 1962, 1963, 1964, 1965, 1966, 1967,\n",
       "       1968, 1969, 1970, 1971, 1972, 1973, 1974, 1975, 1976, 1977, 1978,\n",
       "       1979, 1980, 1981, 1982, 1983, 1984, 1985, 1986, 1987, 1988, 1989,\n",
       "       1990, 1991, 1992, 1993, 1994, 1995, 1996, 1997, 1998, 1999, 2000,\n",
       "       2001, 2002, 2003, 2004, 2005, 2006, 2007, 2008, 2009, 2010, 2011,\n",
       "       2012, 2013, 2014, 2015, 2016, 2017, 2018, 2019, 2020, 2021, 2022,\n",
       "       2023], dtype=int64)"
      ]
     },
     "execution_count": 101,
     "metadata": {},
     "output_type": "execute_result"
    }
   ],
   "source": [
    "# Check unique year values for global temps\n",
    "global_temp_df[\"Year\"].unique()"
   ]
  },
  {
   "cell_type": "code",
   "execution_count": 107,
   "id": "d432d4fb-483e-4fde-9b21-a8848f18ed0f",
   "metadata": {},
   "outputs": [
    {
     "data": {
      "text/html": [
       "<div>\n",
       "<style scoped>\n",
       "    .dataframe tbody tr th:only-of-type {\n",
       "        vertical-align: middle;\n",
       "    }\n",
       "\n",
       "    .dataframe tbody tr th {\n",
       "        vertical-align: top;\n",
       "    }\n",
       "\n",
       "    .dataframe thead th {\n",
       "        text-align: right;\n",
       "    }\n",
       "</style>\n",
       "<table border=\"1\" class=\"dataframe\">\n",
       "  <thead>\n",
       "    <tr style=\"text-align: right;\">\n",
       "      <th></th>\n",
       "      <th>Year</th>\n",
       "      <th>Global sea level according to Church and White (2011)</th>\n",
       "      <th>No_Smoothing</th>\n",
       "      <th>Lowess(5)</th>\n",
       "    </tr>\n",
       "  </thead>\n",
       "  <tbody>\n",
       "    <tr>\n",
       "      <th>0</th>\n",
       "      <td>1880</td>\n",
       "      <td>-180.236283</td>\n",
       "      <td>-0.17</td>\n",
       "      <td>-0.10</td>\n",
       "    </tr>\n",
       "    <tr>\n",
       "      <th>1</th>\n",
       "      <td>1881</td>\n",
       "      <td>-173.039065</td>\n",
       "      <td>-0.09</td>\n",
       "      <td>-0.13</td>\n",
       "    </tr>\n",
       "    <tr>\n",
       "      <th>2</th>\n",
       "      <td>1882</td>\n",
       "      <td>-191.580733</td>\n",
       "      <td>-0.11</td>\n",
       "      <td>-0.17</td>\n",
       "    </tr>\n",
       "    <tr>\n",
       "      <th>3</th>\n",
       "      <td>1883</td>\n",
       "      <td>-190.455727</td>\n",
       "      <td>-0.18</td>\n",
       "      <td>-0.20</td>\n",
       "    </tr>\n",
       "    <tr>\n",
       "      <th>4</th>\n",
       "      <td>1884</td>\n",
       "      <td>-166.597397</td>\n",
       "      <td>-0.28</td>\n",
       "      <td>-0.24</td>\n",
       "    </tr>\n",
       "  </tbody>\n",
       "</table>\n",
       "</div>"
      ],
      "text/plain": [
       "   Year  Global sea level according to Church and White (2011)  No_Smoothing  \\\n",
       "0  1880                                        -180.236283             -0.17   \n",
       "1  1881                                        -173.039065             -0.09   \n",
       "2  1882                                        -191.580733             -0.11   \n",
       "3  1883                                        -190.455727             -0.18   \n",
       "4  1884                                        -166.597397             -0.28   \n",
       "\n",
       "   Lowess(5)  \n",
       "0      -0.10  \n",
       "1      -0.13  \n",
       "2      -0.17  \n",
       "3      -0.20  \n",
       "4      -0.24  "
      ]
     },
     "execution_count": 107,
     "metadata": {},
     "output_type": "execute_result"
    }
   ],
   "source": [
    "# Merge two df's on Year using inner to remove last 3 years from global temp df\n",
    "sea_level_temp_df = pd.merge(avg_df, global_temp_df, on=\"Year\", how=\"inner\")\n",
    "\n",
    "# Check first 5 rows in new df\n",
    "sea_level_temp_df.head()"
   ]
  },
  {
   "cell_type": "code",
   "execution_count": 109,
   "id": "c3479e00-a2c2-4edc-ab98-65bb87b386b0",
   "metadata": {},
   "outputs": [
    {
     "data": {
      "text/html": [
       "<div>\n",
       "<style scoped>\n",
       "    .dataframe tbody tr th:only-of-type {\n",
       "        vertical-align: middle;\n",
       "    }\n",
       "\n",
       "    .dataframe tbody tr th {\n",
       "        vertical-align: top;\n",
       "    }\n",
       "\n",
       "    .dataframe thead th {\n",
       "        text-align: right;\n",
       "    }\n",
       "</style>\n",
       "<table border=\"1\" class=\"dataframe\">\n",
       "  <thead>\n",
       "    <tr style=\"text-align: right;\">\n",
       "      <th></th>\n",
       "      <th>Year</th>\n",
       "      <th>Global sea level according to Church and White (2011)</th>\n",
       "      <th>No_Smoothing</th>\n",
       "      <th>Lowess(5)</th>\n",
       "    </tr>\n",
       "  </thead>\n",
       "  <tbody>\n",
       "    <tr>\n",
       "      <th>136</th>\n",
       "      <td>2016</td>\n",
       "      <td>56.330711</td>\n",
       "      <td>1.01</td>\n",
       "      <td>0.87</td>\n",
       "    </tr>\n",
       "    <tr>\n",
       "      <th>137</th>\n",
       "      <td>2017</td>\n",
       "      <td>55.112391</td>\n",
       "      <td>0.92</td>\n",
       "      <td>0.91</td>\n",
       "    </tr>\n",
       "    <tr>\n",
       "      <th>138</th>\n",
       "      <td>2018</td>\n",
       "      <td>52.083274</td>\n",
       "      <td>0.85</td>\n",
       "      <td>0.92</td>\n",
       "    </tr>\n",
       "    <tr>\n",
       "      <th>139</th>\n",
       "      <td>2019</td>\n",
       "      <td>60.980738</td>\n",
       "      <td>0.98</td>\n",
       "      <td>0.93</td>\n",
       "    </tr>\n",
       "    <tr>\n",
       "      <th>140</th>\n",
       "      <td>2020</td>\n",
       "      <td>65.999739</td>\n",
       "      <td>1.02</td>\n",
       "      <td>0.93</td>\n",
       "    </tr>\n",
       "  </tbody>\n",
       "</table>\n",
       "</div>"
      ],
      "text/plain": [
       "     Year  Global sea level according to Church and White (2011)  \\\n",
       "136  2016                                          56.330711       \n",
       "137  2017                                          55.112391       \n",
       "138  2018                                          52.083274       \n",
       "139  2019                                          60.980738       \n",
       "140  2020                                          65.999739       \n",
       "\n",
       "     No_Smoothing  Lowess(5)  \n",
       "136          1.01       0.87  \n",
       "137          0.92       0.91  \n",
       "138          0.85       0.92  \n",
       "139          0.98       0.93  \n",
       "140          1.02       0.93  "
      ]
     },
     "execution_count": 109,
     "metadata": {},
     "output_type": "execute_result"
    }
   ],
   "source": [
    "# Check last 5 rows in new df\n",
    "sea_level_temp_df.tail()"
   ]
  },
  {
   "cell_type": "code",
   "execution_count": null,
   "id": "49694daa-f464-4a4d-975c-9d232ccbf923",
   "metadata": {},
   "outputs": [],
   "source": []
  }
 ],
 "metadata": {
  "kernelspec": {
   "display_name": "Python 3 (ipykernel)",
   "language": "python",
   "name": "python3"
  },
  "language_info": {
   "codemirror_mode": {
    "name": "ipython",
    "version": 3
   },
   "file_extension": ".py",
   "mimetype": "text/x-python",
   "name": "python",
   "nbconvert_exporter": "python",
   "pygments_lexer": "ipython3",
   "version": "3.12.4"
  }
 },
 "nbformat": 4,
 "nbformat_minor": 5
}
